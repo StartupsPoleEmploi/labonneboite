{
 "cells": [
  {
   "cell_type": "code",
   "execution_count": 1,
   "metadata": {
    "collapsed": false
   },
   "outputs": [],
   "source": [
    "import bisect\n",
    "import pickle\n",
    "from collections import Counter\n",
    "\n",
    "import pandas as pd\n",
    "import numpy as np\n",
    "from matplotlib import pyplot as plt\n",
    "%matplotlib inline"
   ]
  },
  {
   "cell_type": "markdown",
   "metadata": {},
   "source": [
    "# Charge les référentiels\n",
    "cf `referentiels.py`"
   ]
  },
  {
   "cell_type": "code",
   "execution_count": 2,
   "metadata": {
    "collapsed": false
   },
   "outputs": [],
   "source": [
    "ROME_df = pd.read_csv('../referentiels/referentiel_ROME/20150921_arboprincipale28427_ROME.csv', index_col=0, sep='|', dtype=str)\n",
    "OGR_df = pd.read_csv('../referentiels/referentiel_OGR/20150921_arboprincipale28427_OGR.csv', sep='|', dtype=str).set_index('OGR')\n",
    "NAF_df = pd.read_csv('../referentiels/referentiel_NAF/naf2008_liste_n5_nouveau_header.csv', sep='|', encoding=\"utf-8\").set_index(['NAF'])"
   ]
  },
  {
   "cell_type": "code",
   "execution_count": 3,
   "metadata": {
    "collapsed": true
   },
   "outputs": [],
   "source": [
    "tranches_effectif = ['00', '01', '02', '03', '11', '12', '21', '22', '31', '32', '41', '42', '51', '52', '53', 'NN']\n",
    "seuils_tranches_effectif = [0, 1, 3, 6, 10, 20, 50, 100, 200, 250, 500, 1000, 2000, 5000, 10000]"
   ]
  },
  {
   "cell_type": "code",
   "execution_count": 4,
   "metadata": {
    "collapsed": false
   },
   "outputs": [],
   "source": [
    "def trouve_tranche_effectif(effectif):\n",
    "    index = bisect.bisect(seuils_tranches_effectif, effectif) - 1\n",
    "    return index, tranches_effectif[index]"
   ]
  },
  {
   "cell_type": "markdown",
   "metadata": {},
   "source": [
    "# Charge les offres"
   ]
  },
  {
   "cell_type": "code",
   "execution_count": 7,
   "metadata": {
    "collapsed": true
   },
   "outputs": [],
   "source": [
    "filename = '../LBB_EOF_OFFRES_20160307_20170407_20170407_191410_clean.csv'"
   ]
  },
  {
   "cell_type": "code",
   "execution_count": 8,
   "metadata": {
    "collapsed": false
   },
   "outputs": [],
   "source": [
    "df = pd.read_csv(filename, sep='|', dtype=str, keep_default_na=False)"
   ]
  },
  {
   "cell_type": "code",
   "execution_count": 9,
   "metadata": {
    "collapsed": false
   },
   "outputs": [],
   "source": [
    "liste_nb_postes = [int(nb_postes) for nb_postes in df.dn_nbrpostesoffertscreation]"
   ]
  },
  {
   "cell_type": "code",
   "execution_count": 10,
   "metadata": {
    "collapsed": false
   },
   "outputs": [
    {
     "data": {
      "text/plain": [
       "(7023100, 8568949)"
      ]
     },
     "execution_count": 10,
     "metadata": {},
     "output_type": "execute_result"
    }
   ],
   "source": [
    "len(df), sum(liste_nb_postes)"
   ]
  },
  {
   "cell_type": "code",
   "execution_count": 11,
   "metadata": {
    "collapsed": false
   },
   "outputs": [],
   "source": [
    "comptage_type_contrat = Counter(df.dc_typecontrat_id)\n",
    "contrat_labels = comptage_type_contrat.keys()\n",
    "contrat_comptes = [comptage_type_contrat[t] for t in contrat_labels]\n",
    "n_type_contrat = len(contrat_labels)"
   ]
  },
  {
   "cell_type": "code",
   "execution_count": 12,
   "metadata": {
    "collapsed": false
   },
   "outputs": [
    {
     "data": {
      "text/plain": [
       "[<matplotlib.text.Text at 0x7fb9e5a90eb8>,\n",
       " <matplotlib.text.Text at 0x7fb9e51b6390>,\n",
       " <matplotlib.text.Text at 0x7fb9e85b62b0>,\n",
       " <matplotlib.text.Text at 0x7fb9e85c6cf8>,\n",
       " <matplotlib.text.Text at 0x7fb9e51b6ac8>,\n",
       " <matplotlib.text.Text at 0x7fb9e85b6c88>,\n",
       " <matplotlib.text.Text at 0x7fb9e85bc668>,\n",
       " <matplotlib.text.Text at 0x7fb9e853f0b8>,\n",
       " <matplotlib.text.Text at 0x7fb9e853fac8>,\n",
       " <matplotlib.text.Text at 0x7fb9e8542518>,\n",
       " <matplotlib.text.Text at 0x7fb9e8542f28>,\n",
       " <matplotlib.text.Text at 0x7fb9e8549978>,\n",
       " <matplotlib.text.Text at 0x7fb9e854b3c8>]"
      ]
     },
     "execution_count": 12,
     "metadata": {},
     "output_type": "execute_result"
    },
    {
     "data": {
      "image/png": "[encoded data removed]",
      "text/plain": [
       "<matplotlib.figure.Figure at 0x7fb9e72899e8>"
      ]
     },
     "metadata": {},
     "output_type": "display_data"
    }
   ],
   "source": [
    "ind = np.arange(n_type_contrat)\n",
    "width = 0.35\n",
    "\n",
    "fig, ax = plt.subplots()\n",
    "rects1 = ax.bar(ind, contrat_comptes, width)\n",
    "\n",
    "ax.set_ylabel('Nb offres')\n",
    "ax.set_title('Répartition des offres par type de contrat')\n",
    "ax.set_xticks(ind + width / 2)\n",
    "ax.set_xticklabels(contrat_labels)\n"
   ]
  },
  {
   "cell_type": "code",
   "execution_count": 13,
   "metadata": {
    "collapsed": false
   },
   "outputs": [],
   "source": [
    "comptage_unite_duree = Counter(df.dc_unitedureecontrat)"
   ]
  },
  {
   "cell_type": "code",
   "execution_count": 14,
   "metadata": {
    "collapsed": false
   },
   "outputs": [
    {
     "data": {
      "text/plain": [
       "Counter({'JO': 550339, 'MO': 3480435, 'null': 2992326})"
      ]
     },
     "execution_count": 14,
     "metadata": {},
     "output_type": "execute_result"
    }
   ],
   "source": [
    "comptage_unite_duree"
   ]
  },
  {
   "cell_type": "code",
   "execution_count": 15,
   "metadata": {
    "collapsed": true
   },
   "outputs": [],
   "source": [
    "def calcul_duree(row):\n",
    "    if row['dc_unitedureecontrat'] == 'null':\n",
    "        assert row['dc_typecontrat_id'] != 'CDD', row\n",
    "        assert row['dc_duree_contrat_id'] == '00', row\n",
    "        return 10*365\n",
    "    else:\n",
    "        # assert row['dc_typecontrat_id'] != 'CDI', row # CDI de 36 mois à l'index 271860\n",
    "        if row['dc_unitedureecontrat'] == 'JO':\n",
    "            return int(row['dc_duree_contrat_id'])\n",
    "        elif row['dc_unitedureecontrat'] == 'MO':\n",
    "            return int(row['dc_duree_contrat_id'])*30\n",
    "        else:\n",
    "            print(row)\n",
    "            raise ValueError()"
   ]
  },
  {
   "cell_type": "code",
   "execution_count": 16,
   "metadata": {
    "collapsed": false
   },
   "outputs": [],
   "source": [
    "df['duree_jours'] = df.apply(calcul_duree, axis=1)"
   ]
  },
  {
   "cell_type": "code",
   "execution_count": 17,
   "metadata": {
    "collapsed": true
   },
   "outputs": [],
   "source": [
    "comptage_duree = Counter(df.duree_jours)"
   ]
  },
  {
   "cell_type": "code",
   "execution_count": 18,
   "metadata": {
    "collapsed": false
   },
   "outputs": [
    {
     "data": {
      "text/plain": [
       "3650"
      ]
     },
     "execution_count": 18,
     "metadata": {},
     "output_type": "execute_result"
    }
   ],
   "source": [
    "duree_max = max(comptage_duree.keys())\n",
    "duree_max"
   ]
  },
  {
   "cell_type": "code",
   "execution_count": 19,
   "metadata": {
    "collapsed": false
   },
   "outputs": [
    {
     "data": {
      "text/plain": [
       "(7023100, 6569294)"
      ]
     },
     "execution_count": 19,
     "metadata": {},
     "output_type": "execute_result"
    }
   ],
   "source": [
    "histo = [comptage_duree[i] for i in range(duree_max + 1)]\n",
    "sum(histo), sum(histo[30:])"
   ]
  },
  {
   "cell_type": "code",
   "execution_count": 20,
   "metadata": {
    "collapsed": false
   },
   "outputs": [
    {
     "data": {
      "text/plain": [
       "0.5423963776679813"
      ]
     },
     "execution_count": 20,
     "metadata": {},
     "output_type": "execute_result"
    }
   ],
   "source": [
    "sum(histo[:370])/sum(histo)"
   ]
  },
  {
   "cell_type": "code",
   "execution_count": 21,
   "metadata": {
    "collapsed": false
   },
   "outputs": [
    {
     "data": {
      "text/plain": [
       "[<matplotlib.lines.Line2D at 0x7fb9e84e1748>]"
      ]
     },
     "execution_count": 21,
     "metadata": {},
     "output_type": "execute_result"
    },
    {
     "data": {
      "image/png": "[encoded data removed]",
      "text/plain": [
       "<matplotlib.figure.Figure at 0x7fb9e85bc320>"
      ]
     },
     "metadata": {},
     "output_type": "display_data"
    }
   ],
   "source": [
    "plt.plot(histo[:370])"
   ]
  },
  {
   "cell_type": "markdown",
   "metadata": {},
   "source": [
    "# Array : OGR x NAF"
   ]
  },
  {
   "cell_type": "code",
   "execution_count": 22,
   "metadata": {
    "collapsed": true
   },
   "outputs": [],
   "source": [
    "def ponderation_duree(duree_jours):\n",
    "    return 1 if duree_jours >= 30 else 0"
   ]
  },
  {
   "cell_type": "code",
   "execution_count": 23,
   "metadata": {
    "collapsed": true
   },
   "outputs": [],
   "source": [
    "n_NAF = len(NAF_df)\n",
    "n_OGR = len(OGR_df)\n"
   ]
  },
  {
   "cell_type": "code",
   "execution_count": 24,
   "metadata": {
    "collapsed": false
   },
   "outputs": [
    {
     "name": "stdout",
     "output_type": "stream",
     "text": [
      "0\n",
      "100000\n",
      "200000\n",
      "300000\n",
      "400000\n",
      "500000\n",
      "600000\n",
      "700000\n",
      "800000\n",
      "900000\n",
      "1000000\n",
      "1100000\n",
      "1200000\n",
      "1300000\n",
      "1400000\n",
      "1500000\n",
      "1600000\n",
      "1700000\n",
      "1800000\n",
      "1900000\n",
      "2000000\n",
      "2100000\n",
      "2200000\n",
      "2300000\n",
      "2400000\n",
      "2500000\n",
      "2600000\n",
      "2700000\n",
      "2800000\n",
      "2900000\n",
      "3000000\n",
      "3100000\n",
      "3200000\n",
      "3300000\n",
      "3400000\n",
      "3500000\n",
      "3600000\n",
      "3700000\n",
      "3800000\n",
      "3900000\n",
      "4000000\n",
      "4100000\n",
      "4200000\n",
      "4300000\n",
      "4400000\n",
      "4500000\n",
      "4600000\n",
      "4700000\n",
      "4800000\n",
      "4900000\n",
      "5000000\n",
      "5100000\n",
      "5200000\n",
      "5300000\n",
      "5400000\n",
      "5500000\n",
      "5600000\n",
      "5700000\n",
      "5800000\n",
      "5900000\n",
      "6000000\n",
      "6100000\n",
      "6200000\n",
      "6300000\n",
      "6400000\n",
      "6500000\n",
      "6600000\n",
      "6700000\n",
      "6800000\n",
      "6900000\n",
      "7000000\n"
     ]
    }
   ],
   "source": [
    "array = np.zeros((n_NAF, n_OGR))\n",
    "\n",
    "set_OGR = set(OGR_df.index)\n",
    "set_NAF = set(NAF_df.index)\n",
    "\n",
    "for i, row in df.iterrows():\n",
    "    (dn_nbrpostesoffertscreation, dc_rome_id, dc_appelationrome_id,\n",
    "     dc_naturecontrat_id, dc_typecontrat_id, dc_unitedureecontrat,\n",
    "     dc_duree_contrat_id, dc_naf2, duree_jours) = row\n",
    "    \n",
    "    dc_appelationrome_id = dc_appelationrome_id[-5:]\n",
    "    \n",
    "    if (dc_naf2 in set_NAF) and (dc_appelationrome_id in set_OGR):\n",
    "        NAF_index = NAF_df.index.get_loc(dc_naf2)\n",
    "        OGR_index = OGR_df.index.get_loc(dc_appelationrome_id)\n",
    "            \n",
    "        poids = ponderation_duree(duree_jours) * int(dn_nbrpostesoffertscreation)\n",
    "        \n",
    "        array[NAF_index, OGR_index] += poids\n",
    "\n",
    "    if i % 100000 == 0:\n",
    "        print(i)"
   ]
  },
  {
   "cell_type": "code",
   "execution_count": 26,
   "metadata": {
    "collapsed": true
   },
   "outputs": [],
   "source": [
    "with open('../array_offres_OGR.pickle', 'wb') as f:\n",
    "    pickle.dump(array, f)"
   ]
  },
  {
   "cell_type": "markdown",
   "metadata": {},
   "source": [
    "# Array : ROME x NAF"
   ]
  },
  {
   "cell_type": "code",
   "execution_count": 27,
   "metadata": {
    "collapsed": true
   },
   "outputs": [],
   "source": [
    "def ponderation_duree(duree_jours):\n",
    "    return 1 if duree_jours >= 30 else 0\n",
    "        "
   ]
  },
  {
   "cell_type": "code",
   "execution_count": 28,
   "metadata": {
    "collapsed": false
   },
   "outputs": [
    {
     "data": {
      "text/plain": [
       "Index(['dn_nbrpostesoffertscreation', 'dc_rome_id', 'dc_appelationrome_id',\n",
       "       'dc_naturecontrat_id', 'dc_typecontrat_id', 'dc_unitedureecontrat',\n",
       "       'dc_duree_contrat_id', 'dc_naf2', 'duree_jours'],\n",
       "      dtype='object')"
      ]
     },
     "execution_count": 28,
     "metadata": {},
     "output_type": "execute_result"
    }
   ],
   "source": [
    "df.columns"
   ]
  },
  {
   "cell_type": "code",
   "execution_count": 29,
   "metadata": {
    "collapsed": false
   },
   "outputs": [],
   "source": [
    "n_NAF = len(NAF_df)\n",
    "n_ROME = len(ROME_df)\n"
   ]
  },
  {
   "cell_type": "code",
   "execution_count": 30,
   "metadata": {
    "collapsed": false,
    "scrolled": true
   },
   "outputs": [
    {
     "name": "stdout",
     "output_type": "stream",
     "text": [
      "0\n",
      "100000\n",
      "200000\n",
      "300000\n",
      "400000\n",
      "500000\n",
      "600000\n",
      "700000\n",
      "800000\n",
      "900000\n",
      "1000000\n",
      "1100000\n",
      "1200000\n",
      "1300000\n",
      "1400000\n",
      "1500000\n",
      "1600000\n",
      "1700000\n",
      "1800000\n",
      "1900000\n",
      "2000000\n",
      "2100000\n",
      "2200000\n",
      "2300000\n",
      "2400000\n",
      "2500000\n",
      "2600000\n",
      "2700000\n",
      "2800000\n",
      "2900000\n",
      "3000000\n",
      "3100000\n",
      "3200000\n",
      "3300000\n",
      "3400000\n",
      "3500000\n",
      "3600000\n",
      "3700000\n",
      "3800000\n",
      "3900000\n",
      "4000000\n",
      "4100000\n",
      "4200000\n",
      "4300000\n",
      "4400000\n",
      "4500000\n",
      "4600000\n",
      "4700000\n",
      "4800000\n",
      "4900000\n",
      "5000000\n",
      "5100000\n",
      "5200000\n",
      "5300000\n",
      "5400000\n",
      "5500000\n",
      "5600000\n",
      "5700000\n",
      "5800000\n",
      "5900000\n",
      "6000000\n",
      "6100000\n",
      "6200000\n",
      "6300000\n",
      "6400000\n",
      "6500000\n",
      "6600000\n",
      "6700000\n",
      "6800000\n",
      "6900000\n",
      "7000000\n"
     ]
    }
   ],
   "source": [
    "array = np.zeros((n_NAF, n_ROME))\n",
    "\n",
    "\n",
    "for i, row in df.iterrows():\n",
    "    (dn_nbrpostesoffertscreation, dc_rome_id, dc_appelationrome_id,\n",
    "     dc_naturecontrat_id, dc_typecontrat_id, dc_unitedureecontrat,\n",
    "     dc_duree_contrat_id, dc_naf2, duree_jours) = row\n",
    "    \n",
    "    if (dc_naf2 in NAF_df.index) and (dc_rome_id in ROME_df.index):\n",
    "        NAF_index = NAF_df.index.get_loc(dc_naf2)\n",
    "        ROME_index = ROME_df.index.get_loc(dc_rome_id)\n",
    "            \n",
    "        poids = ponderation_duree(duree_jours) * int(dn_nbrpostesoffertscreation)\n",
    "        \n",
    "        array[NAF_index, ROME_index] += poids\n",
    "\n",
    "    if i % 100000 == 0:\n",
    "        print(i)"
   ]
  },
  {
   "cell_type": "code",
   "execution_count": 31,
   "metadata": {
    "collapsed": false
   },
   "outputs": [],
   "source": [
    "with open('../array_offres.pickle', 'wb') as f:\n",
    "    pickle.dump(array, f)"
   ]
  },
  {
   "cell_type": "code",
   "execution_count": null,
   "metadata": {
    "collapsed": true
   },
   "outputs": [],
   "source": []
  }
 ],
 "metadata": {
  "kernelspec": {
   "display_name": "Python 3",
   "language": "python",
   "name": "python3"
  },
  "language_info": {
   "codemirror_mode": {
    "name": "ipython",
    "version": 3
   },
   "file_extension": ".py",
   "mimetype": "text/x-python",
   "name": "python",
   "nbconvert_exporter": "python",
   "pygments_lexer": "ipython3",
   "version": "3.5.2"
  }
 },
 "nbformat": 4,
 "nbformat_minor": 2
}
