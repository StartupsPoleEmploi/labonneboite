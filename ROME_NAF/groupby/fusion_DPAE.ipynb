{
 "cells": [
  {
   "cell_type": "markdown",
   "metadata": {},
   "source": [
    "Fusion des DPAE des CDD et CDI, et des ETT"
   ]
  },
  {
   "cell_type": "code",
   "execution_count": 1,
   "metadata": {
    "collapsed": true
   },
   "outputs": [],
   "source": [
    "import pickle\n",
    "\n",
    "import pandas as pd"
   ]
  },
  {
   "cell_type": "code",
   "execution_count": 2,
   "metadata": {
    "collapsed": true
   },
   "outputs": [],
   "source": [
    "ROME_df = pd.read_csv('../referentiels/referentiel_ROME/20150921_arboprincipale28427_ROME.csv', index_col=0, sep='|', dtype=str)\n",
    "OGR_df = pd.read_csv('../referentiels/referentiel_OGR/20150921_arboprincipale28427_OGR.csv', sep='|', dtype=str).set_index('OGR')\n",
    "NAF_df = pd.read_csv('../referentiels/referentiel_NAF/naf2008_liste_n5_nouveau_header.csv', sep='|', encoding=\"utf-8\").set_index(['NAF'])"
   ]
  },
  {
   "cell_type": "code",
   "execution_count": 4,
   "metadata": {
    "collapsed": false
   },
   "outputs": [],
   "source": [
    "with open('../array_ROME1_CDI_CDD.pickle', 'rb') as f:\n",
    "    array_ROME1_CDI_CDD = pickle.load(f)\n",
    "with open('../array_ROME1_ETT.pickle', 'rb') as f:\n",
    "    array_ROME1_ETT = pickle.load(f)\n",
    "\n",
    "with open('../array_ROME2_CDI_CDD.pickle', 'rb') as f:\n",
    "    array_ROME2_CDI_CDD = pickle.load(f)\n",
    "with open('../array_ROME2_ETT.pickle', 'rb') as f:\n",
    "    array_ROME2_ETT = pickle.load(f)\n"
   ]
  },
  {
   "cell_type": "code",
   "execution_count": 5,
   "metadata": {
    "collapsed": false
   },
   "outputs": [],
   "source": [
    "array_ROME1_fusion = array_ROME1_CDI_CDD + array_ROME1_ETT\n",
    "with open('../array_ROME1_fusion.pickle', 'wb') as f:\n",
    "    pickle.dump(array_ROME1_fusion, f)\n",
    "\n",
    "array_ROME2_fusion = array_ROME2_CDI_CDD + array_ROME2_ETT\n",
    "with open('../array_ROME2_fusion.pickle', 'wb') as f:\n",
    "    pickle.dump(array_ROME2_fusion, f)\n"
   ]
  },
  {
   "cell_type": "code",
   "execution_count": null,
   "metadata": {
    "collapsed": true
   },
   "outputs": [],
   "source": []
  }
 ],
 "metadata": {
  "kernelspec": {
   "display_name": "Python 3",
   "language": "python",
   "name": "python3"
  },
  "language_info": {
   "codemirror_mode": {
    "name": "ipython",
    "version": 3
   },
   "file_extension": ".py",
   "mimetype": "text/x-python",
   "name": "python",
   "nbconvert_exporter": "python",
   "pygments_lexer": "ipython3",
   "version": "3.5.2"
  }
 },
 "nbformat": 4,
 "nbformat_minor": 2
}
