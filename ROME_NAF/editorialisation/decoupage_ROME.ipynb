{
 "cells": [
  {
   "cell_type": "code",
   "execution_count": 1,
   "metadata": {
    "collapsed": false
   },
   "outputs": [],
   "source": [
    "import pickle\n",
    "from collections import defaultdict\n",
    "\n",
    "import pandas as pd\n",
    "import numpy as np\n",
    "from matplotlib import pyplot as plt\n",
    "%matplotlib inline\n",
    "from sklearn.cluster import AffinityPropagation"
   ]
  },
  {
   "cell_type": "markdown",
   "metadata": {},
   "source": [
    "# Load"
   ]
  },
  {
   "cell_type": "code",
   "execution_count": 2,
   "metadata": {
    "collapsed": false
   },
   "outputs": [],
   "source": [
    "ROME_df = pd.read_csv('../referentiels/referentiel_ROME/20150921_arboprincipale28427_ROME.csv', index_col=0, sep='|', dtype=str)\n",
    "OGR_df = pd.read_csv('../referentiels/referentiel_OGR/20150921_arboprincipale28427_OGR.csv', sep='|', dtype=str).set_index('OGR')\n",
    "NAF_df = pd.read_csv('../referentiels/referentiel_NAF/naf2008_liste_n5_nouveau_header.csv', sep='|', encoding=\"utf-8\").set_index(['NAF'])"
   ]
  },
  {
   "cell_type": "code",
   "execution_count": 3,
   "metadata": {
    "collapsed": false
   },
   "outputs": [],
   "source": [
    "with open('../array_offres_OGR.pickle', 'rb') as f:\n",
    "    offres_OGR = pickle.load(f)"
   ]
  },
  {
   "cell_type": "code",
   "execution_count": 4,
   "metadata": {
    "collapsed": false
   },
   "outputs": [
    {
     "data": {
      "text/plain": [
       "(732, 10877)"
      ]
     },
     "execution_count": 4,
     "metadata": {},
     "output_type": "execute_result"
    }
   ],
   "source": [
    "offres_OGR.shape"
   ]
  },
  {
   "cell_type": "code",
   "execution_count": 5,
   "metadata": {
    "collapsed": false
   },
   "outputs": [],
   "source": [
    "liste_nb_embauche_OGR = offres_OGR.sum(0)\n",
    "nb_embauche_by_OGR = dict(zip(OGR_df.index, liste_nb_embauche_OGR))"
   ]
  },
  {
   "cell_type": "markdown",
   "metadata": {},
   "source": [
    "# Data transformation"
   ]
  },
  {
   "cell_type": "code",
   "execution_count": 6,
   "metadata": {
    "collapsed": false
   },
   "outputs": [],
   "source": [
    "def get_matrix(ROME):\n",
    "    # Calcule le nombre d'embauches par NAF pour les différents codes OGR d'un code ROME\n",
    "    # Les codes OGR sans embauches sont exclus\n",
    "\n",
    "    ROME_OGRs = list(OGR_df[OGR_df.ROME == ROME].index)\n",
    "    ROME_OGR_indexes = [OGR_df.index.get_loc(OGR) for OGR in ROME_OGRs]\n",
    "    \n",
    "    ROME_matrix = offres_OGR[:, ROME_OGR_indexes]\n",
    "    \n",
    "    is_positive = ROME_matrix.sum(0)>0\n",
    "    is_positive_mask = np.where(is_positive)[0]\n",
    "    is_empty = ROME_matrix.sum(0)==0\n",
    "    is_empty_mask = np.where(is_empty)[0]\n",
    "    ROME_matrix = ROME_matrix[:, is_positive_mask]\n",
    "    empty_OGRs = [ROME_OGRs[i] for i in is_empty_mask]\n",
    "    non_empty_OGRs = [ROME_OGRs[i] for i in is_positive_mask]\n",
    "    \n",
    "    return ROME_matrix, non_empty_OGRs, empty_OGRs"
   ]
  },
  {
   "cell_type": "code",
   "execution_count": 7,
   "metadata": {
    "collapsed": false
   },
   "outputs": [],
   "source": [
    "def similarity(A):\n",
    "    # Calcule la matrice de similarité des codes OGR d'un code ROME\n",
    "    norm2 = np.power(A, 2).sum(0)\n",
    "    norm = np.sqrt(norm2)\n",
    "    A_normalized = A/norm\n",
    "    product = np.dot(A_normalized.T, A_normalized)\n",
    "    return product"
   ]
  },
  {
   "cell_type": "code",
   "execution_count": 29,
   "metadata": {
    "collapsed": false
   },
   "outputs": [],
   "source": [
    "def print_clusters(clusters):\n",
    "    output = ''\n",
    "    for cluster in clusters:\n",
    "        for OGR in cluster:\n",
    "            output += '{} {} ({})\\n'.format(OGR, OGR_df.loc[OGR].label, nb_embauche_by_OGR[OGR])\n",
    "        output += '\\n'\n",
    "    return output"
   ]
  },
  {
   "cell_type": "markdown",
   "metadata": {},
   "source": [
    "# Naive clustering (using a threashold)"
   ]
  },
  {
   "cell_type": "code",
   "execution_count": null,
   "metadata": {
    "collapsed": false
   },
   "outputs": [],
   "source": [
    "bool_sim = sim>0.7\n",
    "equi = np.linalg.matrix_power(bool_sim, 100)\n",
    "plt.imshow(equi, interpolation='none')"
   ]
  },
  {
   "cell_type": "code",
   "execution_count": null,
   "metadata": {
    "collapsed": false
   },
   "outputs": [],
   "source": [
    "clusters = defaultdict(list)\n",
    "for i in range(len(ROME_OGRs)):\n",
    "    repres = min(np.where(equi[i, :])[0])\n",
    "    clusters[repres].append(i)\n",
    "clusters = list(clusters.values())\n",
    "clusters"
   ]
  },
  {
   "cell_type": "code",
   "execution_count": null,
   "metadata": {
    "collapsed": false
   },
   "outputs": [],
   "source": [
    "print_clusters(clusters)"
   ]
  },
  {
   "cell_type": "markdown",
   "metadata": {},
   "source": [
    "# Affinity propagation"
   ]
  },
  {
   "cell_type": "code",
   "execution_count": 10,
   "metadata": {
    "collapsed": false
   },
   "outputs": [],
   "source": [
    "def compute_clusters_affiny_propagation(sim):\n",
    "    if len(sim) == 0:\n",
    "        return []\n",
    "    if len(sim) == 1:\n",
    "        return [[0]]\n",
    "    \n",
    "    model = AffinityPropagation(affinity='precomputed')\n",
    "    labels = model.fit_predict(sim)\n",
    "    clusters = defaultdict(list)\n",
    "    for i, l in enumerate(labels):\n",
    "        clusters[l].append(i)\n",
    "    clusters = list(clusters.values())\n",
    "    return clusters"
   ]
  },
  {
   "cell_type": "code",
   "execution_count": 12,
   "metadata": {
    "collapsed": false
   },
   "outputs": [],
   "source": [
    "def merge_small_OGR(ROME_matrix, ROME_OGRs):\n",
    "    represented = defaultdict(list)\n",
    "    while True:\n",
    "        if len(ROME_OGRs) < 2:\n",
    "            break\n",
    "\n",
    "        # Find the smallest OGR\n",
    "        index_merged = ROME_matrix.sum(0).argmin()\n",
    "        nb = ROME_matrix[:, index_merged].sum()\n",
    "        if nb >= 500:\n",
    "            # Exit if the smallest OGR is large enough\n",
    "            break\n",
    "        OGR_merged = ROME_OGRs[index_merged]\n",
    "\n",
    "        # Find the closest OGR\n",
    "        sim = similarity(ROME_matrix)\n",
    "        sim_line = sim[index_merged]\n",
    "        sim_line[index_merged] = 0\n",
    "        index_representative = sim_line.argmax()\n",
    "        OGR_representative = ROME_OGRs[index_representative]\n",
    "\n",
    "        # Merge the two OGRs\n",
    "        ROME_matrix[:, index_representative] += ROME_matrix[:, index_merged]\n",
    "        ROME_matrix = np.delete(ROME_matrix, [index_merged], axis=1)\n",
    "        del ROME_OGRs[index_merged]\n",
    "\n",
    "        # Remember the merged OGR is represented by the larger one.\n",
    "        represented[OGR_representative].append(OGR_merged)\n",
    "\n",
    "    return ROME_matrix, ROME_OGRs, represented"
   ]
  },
  {
   "cell_type": "code",
   "execution_count": 18,
   "metadata": {
    "collapsed": false
   },
   "outputs": [],
   "source": [
    "def cluster_indexes_to_names(clusters, ROME_OGRs, represented):\n",
    "    clusters_OGR = []\n",
    "    for cluster in clusters:\n",
    "        cluster_OGR = []\n",
    "        for OGR_index in cluster:\n",
    "            OGR = ROME_OGRs[OGR_index]\n",
    "            cluster_OGR.append(OGR)\n",
    "            cluster_OGR += represented[OGR]\n",
    "        clusters_OGR.append(cluster_OGR)\n",
    "    return clusters_OGR\n",
    "\n",
    "def classify_empty_OGR(ROME_matrix, empty_OGRs, clusters, clusters_OGR):\n",
    "    OGR_weights = ROME_matrix.sum(0)\n",
    "    cluster_weights = []\n",
    "    for cluster in clusters:\n",
    "        cluster_weight = 0\n",
    "        for OGR_index in cluster:\n",
    "            cluster_weight += OGR_weights[OGR_index]\n",
    "        cluster_weights.append(cluster_weight)\n",
    "    largest_cluster = np.array(cluster_weights).argmax()\n",
    "    clusters_OGR[largest_cluster] += empty_OGRs\n",
    "    return clusters_OGR\n",
    "\n",
    "\n",
    "def compute_clusters(ROME):\n",
    "    ROME_matrix, ROME_OGRs, empty_OGRs = get_matrix(ROME)\n",
    "\n",
    "    ROME_matrix, ROME_OGRs, represented = merge_small_OGR(ROME_matrix, ROME_OGRs)\n",
    "\n",
    "    sim = similarity(ROME_matrix)\n",
    "    clusters = compute_clusters_affiny_propagation(sim)\n",
    "\n",
    "    clusters_OGR = cluster_indexes_to_names(clusters, ROME_OGRs, represented)\n",
    "    clusters_OGR = classify_empty_OGR(ROME_matrix, empty_OGRs, clusters, clusters_OGR)\n",
    "    return clusters_OGR"
   ]
  },
  {
   "cell_type": "markdown",
   "metadata": {},
   "source": [
    "# Loop"
   ]
  },
  {
   "cell_type": "code",
   "execution_count": 31,
   "metadata": {
    "collapsed": false
   },
   "outputs": [],
   "source": [
    "def print_ROME(ROME):\n",
    "    ROME_label = ROME_df.loc[ROME].label\n",
    "    output = ''\n",
    "    output += '*** {} : {} ***\\n\\n'.format(ROME, ROME_label)\n",
    "    clusters_OGR = compute_clusters(ROME)\n",
    "    output += print_clusters(clusters_OGR)\n",
    "    output += '\\n'\n",
    "    return output"
   ]
  },
  {
   "cell_type": "code",
   "execution_count": 33,
   "metadata": {
    "collapsed": false,
    "scrolled": false
   },
   "outputs": [
    {
     "name": "stdout",
     "output_type": "stream",
     "text": [
      "*** D1106 : Vente en alimentation ***\n",
      "\n",
      "20560 Vendeur / Vendeuse en boulangerie-pâtisserie (45782.0)\n",
      "\n",
      "20567 Vendeur / Vendeuse en chocolaterie (2981.0)\n",
      "20568 Vendeur / Vendeuse en confiserie (811.0)\n",
      "\n",
      "20576 Vendeur / Vendeuse en épicerie (1467.0)\n",
      "20577 Vendeur / Vendeuse en épicerie fine (2868.0)\n",
      "20570 Vendeur / Vendeuse en crèmerie (434.0)\n",
      "38776 Vendeur / Vendeuse en produits biologiques (2067.0)\n",
      "20622 Vendeur / Vendeuse en produits diététiques (1062.0)\n",
      "\n",
      "20525 Vendeur / Vendeuse de fruits et légumes (3062.0)\n",
      "16388 Marchand / Marchande de fruits et légumes (51.0)\n",
      "20530 Vendeur / Vendeuse de primeurs (249.0)\n",
      "20540 Vendeur / Vendeuse en alimentation générale (3395.0)\n",
      "14863 Epicier / Epicière (353.0)\n",
      "20558 Vendeur / Vendeuse en boucherie (1443.0)\n",
      "20559 Vendeur / Vendeuse en boucherie-charcuterie (2069.0)\n",
      "20627 Vendeur / Vendeuse en rôtisserie (236.0)\n",
      "20564 Vendeur / Vendeuse en charcuterie (4729.0)\n",
      "20612 Vendeur / Vendeuse en poissonnerie (3842.0)\n",
      "20623 Vendeur / Vendeuse en produits frais (1928.0)\n",
      "20645 Vendeur / Vendeuse rayon fromages (1194.0)\n",
      "20646 Vendeur / Vendeuse rayon traiteur (926.0)\n",
      "\n",
      "20635 Vendeur / Vendeuse en vins et spiritueux (1913.0)\n",
      "\n",
      "\n",
      "\n"
     ]
    }
   ],
   "source": [
    "print(print_ROME('D1106'))"
   ]
  },
  {
   "cell_type": "code",
   "execution_count": 34,
   "metadata": {
    "collapsed": false,
    "scrolled": false
   },
   "outputs": [],
   "source": [
    "with open('../decoupage_ROME.txt', 'w') as f:\n",
    "    for ROME in ROME_df.index:\n",
    "        f.write(print_ROME(ROME))"
   ]
  },
  {
   "cell_type": "code",
   "execution_count": null,
   "metadata": {
    "collapsed": true
   },
   "outputs": [],
   "source": []
  }
 ],
 "metadata": {
  "kernelspec": {
   "display_name": "Python 3",
   "language": "python",
   "name": "python3"
  },
  "language_info": {
   "codemirror_mode": {
    "name": "ipython",
    "version": 3
   },
   "file_extension": ".py",
   "mimetype": "text/x-python",
   "name": "python",
   "nbconvert_exporter": "python",
   "pygments_lexer": "ipython3",
   "version": "3.5.2"
  }
 },
 "nbformat": 4,
 "nbformat_minor": 2
}
