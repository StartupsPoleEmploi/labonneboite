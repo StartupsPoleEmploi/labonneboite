{
 "cells": [
  {
   "cell_type": "code",
   "execution_count": 1,
   "metadata": {
    "collapsed": true
   },
   "outputs": [],
   "source": [
    "import pickle\n",
    "\n",
    "import numpy as np\n",
    "import pandas as pd\n",
    "from slugify import slugify"
   ]
  },
  {
   "cell_type": "markdown",
   "metadata": {},
   "source": [
    "# Load data"
   ]
  },
  {
   "cell_type": "code",
   "execution_count": 2,
   "metadata": {
    "collapsed": true
   },
   "outputs": [],
   "source": [
    "ROME_df = pd.read_csv('../referentiels/referentiel_ROME/20150921_arboprincipale28427_ROME.csv', index_col=0, sep='|', dtype=str)\n",
    "OGR_df = pd.read_csv('../referentiels/referentiel_OGR/20150921_arboprincipale28427_OGR.csv', sep='|', dtype=str).set_index('OGR')\n",
    "NAF_df = pd.read_csv('../referentiels/referentiel_NAF/naf2008_liste_n5_nouveau_header.csv', sep='|', encoding=\"utf-8\").set_index(['NAF'])"
   ]
  },
  {
   "cell_type": "code",
   "execution_count": 3,
   "metadata": {
    "collapsed": false
   },
   "outputs": [],
   "source": [
    "with open('../decoupage_ROME.pickle', 'rb') as f:\n",
    "    decoupage_ROME = pickle.load(f)"
   ]
  },
  {
   "cell_type": "markdown",
   "metadata": {},
   "source": [
    "# OGR <-> ROMEbis"
   ]
  },
  {
   "cell_type": "code",
   "execution_count": 4,
   "metadata": {
    "collapsed": false
   },
   "outputs": [],
   "source": [
    "OGR_df['ROMEbis'] = OGR_df.ROME"
   ]
  },
  {
   "cell_type": "code",
   "execution_count": 5,
   "metadata": {
    "collapsed": true
   },
   "outputs": [],
   "source": [
    "for ROME, ROME_groups in decoupage_ROME.items():\n",
    "    for i, group in enumerate(ROME_groups):\n",
    "        label = group['label']\n",
    "        OGRs = group['OGRs']\n",
    "        name = group['name']\n",
    "        for OGR in OGRs:\n",
    "            OGR_df.loc[OGR]['ROMEbis'] = name"
   ]
  },
  {
   "cell_type": "code",
   "execution_count": 6,
   "metadata": {
    "collapsed": false
   },
   "outputs": [
    {
     "data": {
      "text/html": [
       "<div>\n",
       "<table border=\"1\" class=\"dataframe\">\n",
       "  <thead>\n",
       "    <tr style=\"text-align: right;\">\n",
       "      <th></th>\n",
       "      <th>ROME1</th>\n",
       "      <th>ROME2</th>\n",
       "      <th>ROME3</th>\n",
       "      <th>label</th>\n",
       "      <th>ROME</th>\n",
       "      <th>slugs</th>\n",
       "      <th>ROMEbis</th>\n",
       "    </tr>\n",
       "    <tr>\n",
       "      <th>OGR</th>\n",
       "      <th></th>\n",
       "      <th></th>\n",
       "      <th></th>\n",
       "      <th></th>\n",
       "      <th></th>\n",
       "      <th></th>\n",
       "      <th></th>\n",
       "    </tr>\n",
       "  </thead>\n",
       "  <tbody>\n",
       "    <tr>\n",
       "      <th>14863</th>\n",
       "      <td>D</td>\n",
       "      <td>11</td>\n",
       "      <td>06</td>\n",
       "      <td>Epicier / Epicière</td>\n",
       "      <td>D1106</td>\n",
       "      <td>epicier-epiciere</td>\n",
       "      <td>14863</td>\n",
       "    </tr>\n",
       "    <tr>\n",
       "      <th>16388</th>\n",
       "      <td>D</td>\n",
       "      <td>11</td>\n",
       "      <td>06</td>\n",
       "      <td>Marchand / Marchande de fruits et légumes</td>\n",
       "      <td>D1106</td>\n",
       "      <td>marchand-marchande-de-fruits-et-legumes</td>\n",
       "      <td>16388</td>\n",
       "    </tr>\n",
       "    <tr>\n",
       "      <th>20525</th>\n",
       "      <td>D</td>\n",
       "      <td>11</td>\n",
       "      <td>06</td>\n",
       "      <td>Vendeur / Vendeuse de fruits et légumes</td>\n",
       "      <td>D1106</td>\n",
       "      <td>vendeur-vendeuse-de-fruits-et-legumes</td>\n",
       "      <td>20525</td>\n",
       "    </tr>\n",
       "    <tr>\n",
       "      <th>20530</th>\n",
       "      <td>D</td>\n",
       "      <td>11</td>\n",
       "      <td>06</td>\n",
       "      <td>Vendeur / Vendeuse de primeurs</td>\n",
       "      <td>D1106</td>\n",
       "      <td>vendeur-vendeuse-de-primeurs</td>\n",
       "      <td>20530</td>\n",
       "    </tr>\n",
       "    <tr>\n",
       "      <th>20540</th>\n",
       "      <td>D</td>\n",
       "      <td>11</td>\n",
       "      <td>06</td>\n",
       "      <td>Vendeur / Vendeuse en alimentation générale</td>\n",
       "      <td>D1106</td>\n",
       "      <td>vendeur-vendeuse-en-alimentation-generale</td>\n",
       "      <td>20540</td>\n",
       "    </tr>\n",
       "    <tr>\n",
       "      <th>20558</th>\n",
       "      <td>D</td>\n",
       "      <td>11</td>\n",
       "      <td>06</td>\n",
       "      <td>Vendeur / Vendeuse en boucherie</td>\n",
       "      <td>D1106</td>\n",
       "      <td>vendeur-vendeuse-en-boucherie</td>\n",
       "      <td>20558</td>\n",
       "    </tr>\n",
       "    <tr>\n",
       "      <th>20559</th>\n",
       "      <td>D</td>\n",
       "      <td>11</td>\n",
       "      <td>06</td>\n",
       "      <td>Vendeur / Vendeuse en boucherie-charcuterie</td>\n",
       "      <td>D1106</td>\n",
       "      <td>vendeur-vendeuse-en-boucherie-charcuterie</td>\n",
       "      <td>20559</td>\n",
       "    </tr>\n",
       "    <tr>\n",
       "      <th>20560</th>\n",
       "      <td>D</td>\n",
       "      <td>11</td>\n",
       "      <td>06</td>\n",
       "      <td>Vendeur / Vendeuse en boulangerie-pâtisserie</td>\n",
       "      <td>D1106</td>\n",
       "      <td>vendeur-vendeuse-en-boulangerie-patisserie</td>\n",
       "      <td>20560</td>\n",
       "    </tr>\n",
       "    <tr>\n",
       "      <th>20564</th>\n",
       "      <td>D</td>\n",
       "      <td>11</td>\n",
       "      <td>06</td>\n",
       "      <td>Vendeur / Vendeuse en charcuterie</td>\n",
       "      <td>D1106</td>\n",
       "      <td>vendeur-vendeuse-en-charcuterie</td>\n",
       "      <td>20564</td>\n",
       "    </tr>\n",
       "    <tr>\n",
       "      <th>20567</th>\n",
       "      <td>D</td>\n",
       "      <td>11</td>\n",
       "      <td>06</td>\n",
       "      <td>Vendeur / Vendeuse en chocolaterie</td>\n",
       "      <td>D1106</td>\n",
       "      <td>vendeur-vendeuse-en-chocolaterie</td>\n",
       "      <td>20567</td>\n",
       "    </tr>\n",
       "    <tr>\n",
       "      <th>20568</th>\n",
       "      <td>D</td>\n",
       "      <td>11</td>\n",
       "      <td>06</td>\n",
       "      <td>Vendeur / Vendeuse en confiserie</td>\n",
       "      <td>D1106</td>\n",
       "      <td>vendeur-vendeuse-en-confiserie</td>\n",
       "      <td>20568</td>\n",
       "    </tr>\n",
       "    <tr>\n",
       "      <th>20570</th>\n",
       "      <td>D</td>\n",
       "      <td>11</td>\n",
       "      <td>06</td>\n",
       "      <td>Vendeur / Vendeuse en crèmerie</td>\n",
       "      <td>D1106</td>\n",
       "      <td>vendeur-vendeuse-en-cremerie</td>\n",
       "      <td>20570</td>\n",
       "    </tr>\n",
       "    <tr>\n",
       "      <th>20576</th>\n",
       "      <td>D</td>\n",
       "      <td>11</td>\n",
       "      <td>06</td>\n",
       "      <td>Vendeur / Vendeuse en épicerie</td>\n",
       "      <td>D1106</td>\n",
       "      <td>vendeur-vendeuse-en-epicerie</td>\n",
       "      <td>20576</td>\n",
       "    </tr>\n",
       "    <tr>\n",
       "      <th>20577</th>\n",
       "      <td>D</td>\n",
       "      <td>11</td>\n",
       "      <td>06</td>\n",
       "      <td>Vendeur / Vendeuse en épicerie fine</td>\n",
       "      <td>D1106</td>\n",
       "      <td>vendeur-vendeuse-en-epicerie-fine</td>\n",
       "      <td>20577</td>\n",
       "    </tr>\n",
       "    <tr>\n",
       "      <th>20612</th>\n",
       "      <td>D</td>\n",
       "      <td>11</td>\n",
       "      <td>06</td>\n",
       "      <td>Vendeur / Vendeuse en poissonnerie</td>\n",
       "      <td>D1106</td>\n",
       "      <td>vendeur-vendeuse-en-poissonnerie</td>\n",
       "      <td>20612</td>\n",
       "    </tr>\n",
       "    <tr>\n",
       "      <th>38776</th>\n",
       "      <td>D</td>\n",
       "      <td>11</td>\n",
       "      <td>06</td>\n",
       "      <td>Vendeur / Vendeuse en produits biologiques</td>\n",
       "      <td>D1106</td>\n",
       "      <td>vendeur-vendeuse-en-produits-biologiques</td>\n",
       "      <td>38776</td>\n",
       "    </tr>\n",
       "    <tr>\n",
       "      <th>20622</th>\n",
       "      <td>D</td>\n",
       "      <td>11</td>\n",
       "      <td>06</td>\n",
       "      <td>Vendeur / Vendeuse en produits diététiques</td>\n",
       "      <td>D1106</td>\n",
       "      <td>vendeur-vendeuse-en-produits-dietetiques</td>\n",
       "      <td>20622</td>\n",
       "    </tr>\n",
       "    <tr>\n",
       "      <th>20623</th>\n",
       "      <td>D</td>\n",
       "      <td>11</td>\n",
       "      <td>06</td>\n",
       "      <td>Vendeur / Vendeuse en produits frais</td>\n",
       "      <td>D1106</td>\n",
       "      <td>vendeur-vendeuse-en-produits-frais</td>\n",
       "      <td>20623</td>\n",
       "    </tr>\n",
       "    <tr>\n",
       "      <th>20627</th>\n",
       "      <td>D</td>\n",
       "      <td>11</td>\n",
       "      <td>06</td>\n",
       "      <td>Vendeur / Vendeuse en rôtisserie</td>\n",
       "      <td>D1106</td>\n",
       "      <td>vendeur-vendeuse-en-rotisserie</td>\n",
       "      <td>20627</td>\n",
       "    </tr>\n",
       "    <tr>\n",
       "      <th>20635</th>\n",
       "      <td>D</td>\n",
       "      <td>11</td>\n",
       "      <td>06</td>\n",
       "      <td>Vendeur / Vendeuse en vins et spiritueux</td>\n",
       "      <td>D1106</td>\n",
       "      <td>vendeur-vendeuse-en-vins-et-spiritueux</td>\n",
       "      <td>20635</td>\n",
       "    </tr>\n",
       "    <tr>\n",
       "      <th>20645</th>\n",
       "      <td>D</td>\n",
       "      <td>11</td>\n",
       "      <td>06</td>\n",
       "      <td>Vendeur / Vendeuse rayon fromages</td>\n",
       "      <td>D1106</td>\n",
       "      <td>vendeur-vendeuse-rayon-fromages</td>\n",
       "      <td>20645</td>\n",
       "    </tr>\n",
       "    <tr>\n",
       "      <th>20646</th>\n",
       "      <td>D</td>\n",
       "      <td>11</td>\n",
       "      <td>06</td>\n",
       "      <td>Vendeur / Vendeuse rayon traiteur</td>\n",
       "      <td>D1106</td>\n",
       "      <td>vendeur-vendeuse-rayon-traiteur</td>\n",
       "      <td>20646</td>\n",
       "    </tr>\n",
       "  </tbody>\n",
       "</table>\n",
       "</div>"
      ],
      "text/plain": [
       "      ROME1 ROME2 ROME3                                         label   ROME  \\\n",
       "OGR                                                                            \n",
       "14863     D    11    06                            Epicier / Epicière  D1106   \n",
       "16388     D    11    06     Marchand / Marchande de fruits et légumes  D1106   \n",
       "20525     D    11    06       Vendeur / Vendeuse de fruits et légumes  D1106   \n",
       "20530     D    11    06                Vendeur / Vendeuse de primeurs  D1106   \n",
       "20540     D    11    06   Vendeur / Vendeuse en alimentation générale  D1106   \n",
       "20558     D    11    06               Vendeur / Vendeuse en boucherie  D1106   \n",
       "20559     D    11    06   Vendeur / Vendeuse en boucherie-charcuterie  D1106   \n",
       "20560     D    11    06  Vendeur / Vendeuse en boulangerie-pâtisserie  D1106   \n",
       "20564     D    11    06             Vendeur / Vendeuse en charcuterie  D1106   \n",
       "20567     D    11    06            Vendeur / Vendeuse en chocolaterie  D1106   \n",
       "20568     D    11    06              Vendeur / Vendeuse en confiserie  D1106   \n",
       "20570     D    11    06                Vendeur / Vendeuse en crèmerie  D1106   \n",
       "20576     D    11    06                Vendeur / Vendeuse en épicerie  D1106   \n",
       "20577     D    11    06           Vendeur / Vendeuse en épicerie fine  D1106   \n",
       "20612     D    11    06            Vendeur / Vendeuse en poissonnerie  D1106   \n",
       "38776     D    11    06    Vendeur / Vendeuse en produits biologiques  D1106   \n",
       "20622     D    11    06    Vendeur / Vendeuse en produits diététiques  D1106   \n",
       "20623     D    11    06          Vendeur / Vendeuse en produits frais  D1106   \n",
       "20627     D    11    06              Vendeur / Vendeuse en rôtisserie  D1106   \n",
       "20635     D    11    06      Vendeur / Vendeuse en vins et spiritueux  D1106   \n",
       "20645     D    11    06             Vendeur / Vendeuse rayon fromages  D1106   \n",
       "20646     D    11    06             Vendeur / Vendeuse rayon traiteur  D1106   \n",
       "\n",
       "                                            slugs ROMEbis  \n",
       "OGR                                                        \n",
       "14863                            epicier-epiciere   14863  \n",
       "16388     marchand-marchande-de-fruits-et-legumes   16388  \n",
       "20525       vendeur-vendeuse-de-fruits-et-legumes   20525  \n",
       "20530                vendeur-vendeuse-de-primeurs   20530  \n",
       "20540   vendeur-vendeuse-en-alimentation-generale   20540  \n",
       "20558               vendeur-vendeuse-en-boucherie   20558  \n",
       "20559   vendeur-vendeuse-en-boucherie-charcuterie   20559  \n",
       "20560  vendeur-vendeuse-en-boulangerie-patisserie   20560  \n",
       "20564             vendeur-vendeuse-en-charcuterie   20564  \n",
       "20567            vendeur-vendeuse-en-chocolaterie   20567  \n",
       "20568              vendeur-vendeuse-en-confiserie   20568  \n",
       "20570                vendeur-vendeuse-en-cremerie   20570  \n",
       "20576                vendeur-vendeuse-en-epicerie   20576  \n",
       "20577           vendeur-vendeuse-en-epicerie-fine   20577  \n",
       "20612            vendeur-vendeuse-en-poissonnerie   20612  \n",
       "38776    vendeur-vendeuse-en-produits-biologiques   38776  \n",
       "20622    vendeur-vendeuse-en-produits-dietetiques   20622  \n",
       "20623          vendeur-vendeuse-en-produits-frais   20623  \n",
       "20627              vendeur-vendeuse-en-rotisserie   20627  \n",
       "20635      vendeur-vendeuse-en-vins-et-spiritueux   20635  \n",
       "20645             vendeur-vendeuse-rayon-fromages   20645  \n",
       "20646             vendeur-vendeuse-rayon-traiteur   20646  "
      ]
     },
     "execution_count": 6,
     "metadata": {},
     "output_type": "execute_result"
    }
   ],
   "source": [
    "OGR_df[OGR_df.ROME == 'D1106']"
   ]
  },
  {
   "cell_type": "code",
   "execution_count": 7,
   "metadata": {
    "collapsed": false
   },
   "outputs": [],
   "source": [
    "OGR_df.ROMEbis.to_csv('../ogr_rome_codes.csv')"
   ]
  },
  {
   "cell_type": "markdown",
   "metadata": {},
   "source": [
    "# ROMEbis dataframe"
   ]
  },
  {
   "cell_type": "code",
   "execution_count": 8,
   "metadata": {
    "collapsed": true
   },
   "outputs": [],
   "source": [
    "ROMEbis_df = ROME_df.copy()"
   ]
  },
  {
   "cell_type": "code",
   "execution_count": 9,
   "metadata": {
    "collapsed": true
   },
   "outputs": [],
   "source": [
    "ROMEbis_df.index.rename('ROMEbis', inplace=True)\n",
    "ROMEbis_df['ROME'] = ROMEbis_df.index\n",
    "ROMEbis_df['ROME_label'] = ROMEbis_df.label"
   ]
  },
  {
   "cell_type": "code",
   "execution_count": 10,
   "metadata": {
    "collapsed": false
   },
   "outputs": [],
   "source": [
    "for ROME, ROME_groups in decoupage_ROME.items():\n",
    "    ROME_info = ROMEbis_df.loc[[ROME]]\n",
    "    ROMEbis_df = ROMEbis_df.drop([ROME])\n",
    "\n",
    "    for i, group in enumerate(ROME_groups):\n",
    "        label = group['label']\n",
    "        OGRs = group['OGRs']\n",
    "        name = group['name']\n",
    "        \n",
    "        ROMEbis_info = ROME_info.copy()\n",
    "        ROMEbis_info.index = [name]\n",
    "        ROMEbis_info.label = [label]\n",
    "        \n",
    "        ROMEbis_df = ROMEbis_df.append(ROMEbis_info)"
   ]
  },
  {
   "cell_type": "code",
   "execution_count": 11,
   "metadata": {
    "collapsed": false
   },
   "outputs": [],
   "source": [
    "ROMEbis_df['slugs'] = [slugify(r) for r in ROMEbis_df.label]\n",
    "ROMEbis_df = ROMEbis_df[['famille', 'domaine', 'metier', 'ROME', 'label', 'slugs', 'famille_label', 'domaine_label', 'ROME_label']]\n",
    "ROMEbis_df.index.rename('ROMEbis', inplace=True)"
   ]
  },
  {
   "cell_type": "code",
   "execution_count": 12,
   "metadata": {
    "collapsed": false
   },
   "outputs": [
    {
     "data": {
      "text/html": [
       "<div>\n",
       "<table border=\"1\" class=\"dataframe\">\n",
       "  <thead>\n",
       "    <tr style=\"text-align: right;\">\n",
       "      <th></th>\n",
       "      <th>famille</th>\n",
       "      <th>domaine</th>\n",
       "      <th>metier</th>\n",
       "      <th>ROME</th>\n",
       "      <th>label</th>\n",
       "      <th>slugs</th>\n",
       "      <th>famille_label</th>\n",
       "      <th>domaine_label</th>\n",
       "      <th>ROME_label</th>\n",
       "    </tr>\n",
       "    <tr>\n",
       "      <th>ROMEbis</th>\n",
       "      <th></th>\n",
       "      <th></th>\n",
       "      <th></th>\n",
       "      <th></th>\n",
       "      <th></th>\n",
       "      <th></th>\n",
       "      <th></th>\n",
       "      <th></th>\n",
       "      <th></th>\n",
       "    </tr>\n",
       "  </thead>\n",
       "  <tbody>\n",
       "    <tr>\n",
       "      <th>14863</th>\n",
       "      <td>D</td>\n",
       "      <td>11</td>\n",
       "      <td>06</td>\n",
       "      <td>D1106</td>\n",
       "      <td>Epicier / Epicière</td>\n",
       "      <td>epicier-epiciere</td>\n",
       "      <td>COMMERCE, VENTE ET GRANDE DISTRIBUTION</td>\n",
       "      <td>Commerce alimentaire et métiers de bouche</td>\n",
       "      <td>Vente en alimentation</td>\n",
       "    </tr>\n",
       "    <tr>\n",
       "      <th>16388</th>\n",
       "      <td>D</td>\n",
       "      <td>11</td>\n",
       "      <td>06</td>\n",
       "      <td>D1106</td>\n",
       "      <td>Marchand / Marchande de fruits et légumes</td>\n",
       "      <td>marchand-marchande-de-fruits-et-legumes</td>\n",
       "      <td>COMMERCE, VENTE ET GRANDE DISTRIBUTION</td>\n",
       "      <td>Commerce alimentaire et métiers de bouche</td>\n",
       "      <td>Vente en alimentation</td>\n",
       "    </tr>\n",
       "    <tr>\n",
       "      <th>20525</th>\n",
       "      <td>D</td>\n",
       "      <td>11</td>\n",
       "      <td>06</td>\n",
       "      <td>D1106</td>\n",
       "      <td>Vendeur / Vendeuse de fruits et légumes</td>\n",
       "      <td>vendeur-vendeuse-de-fruits-et-legumes</td>\n",
       "      <td>COMMERCE, VENTE ET GRANDE DISTRIBUTION</td>\n",
       "      <td>Commerce alimentaire et métiers de bouche</td>\n",
       "      <td>Vente en alimentation</td>\n",
       "    </tr>\n",
       "    <tr>\n",
       "      <th>20530</th>\n",
       "      <td>D</td>\n",
       "      <td>11</td>\n",
       "      <td>06</td>\n",
       "      <td>D1106</td>\n",
       "      <td>Vendeur / Vendeuse de primeurs</td>\n",
       "      <td>vendeur-vendeuse-de-primeurs</td>\n",
       "      <td>COMMERCE, VENTE ET GRANDE DISTRIBUTION</td>\n",
       "      <td>Commerce alimentaire et métiers de bouche</td>\n",
       "      <td>Vente en alimentation</td>\n",
       "    </tr>\n",
       "    <tr>\n",
       "      <th>20540</th>\n",
       "      <td>D</td>\n",
       "      <td>11</td>\n",
       "      <td>06</td>\n",
       "      <td>D1106</td>\n",
       "      <td>Vendeur / Vendeuse en alimentation générale</td>\n",
       "      <td>vendeur-vendeuse-en-alimentation-generale</td>\n",
       "      <td>COMMERCE, VENTE ET GRANDE DISTRIBUTION</td>\n",
       "      <td>Commerce alimentaire et métiers de bouche</td>\n",
       "      <td>Vente en alimentation</td>\n",
       "    </tr>\n",
       "    <tr>\n",
       "      <th>20558</th>\n",
       "      <td>D</td>\n",
       "      <td>11</td>\n",
       "      <td>06</td>\n",
       "      <td>D1106</td>\n",
       "      <td>Vendeur / Vendeuse en boucherie</td>\n",
       "      <td>vendeur-vendeuse-en-boucherie</td>\n",
       "      <td>COMMERCE, VENTE ET GRANDE DISTRIBUTION</td>\n",
       "      <td>Commerce alimentaire et métiers de bouche</td>\n",
       "      <td>Vente en alimentation</td>\n",
       "    </tr>\n",
       "    <tr>\n",
       "      <th>20559</th>\n",
       "      <td>D</td>\n",
       "      <td>11</td>\n",
       "      <td>06</td>\n",
       "      <td>D1106</td>\n",
       "      <td>Vendeur / Vendeuse en boucherie-charcuterie</td>\n",
       "      <td>vendeur-vendeuse-en-boucherie-charcuterie</td>\n",
       "      <td>COMMERCE, VENTE ET GRANDE DISTRIBUTION</td>\n",
       "      <td>Commerce alimentaire et métiers de bouche</td>\n",
       "      <td>Vente en alimentation</td>\n",
       "    </tr>\n",
       "    <tr>\n",
       "      <th>20560</th>\n",
       "      <td>D</td>\n",
       "      <td>11</td>\n",
       "      <td>06</td>\n",
       "      <td>D1106</td>\n",
       "      <td>Vendeur / Vendeuse en boulangerie-pâtisserie</td>\n",
       "      <td>vendeur-vendeuse-en-boulangerie-patisserie</td>\n",
       "      <td>COMMERCE, VENTE ET GRANDE DISTRIBUTION</td>\n",
       "      <td>Commerce alimentaire et métiers de bouche</td>\n",
       "      <td>Vente en alimentation</td>\n",
       "    </tr>\n",
       "    <tr>\n",
       "      <th>20564</th>\n",
       "      <td>D</td>\n",
       "      <td>11</td>\n",
       "      <td>06</td>\n",
       "      <td>D1106</td>\n",
       "      <td>Vendeur / Vendeuse en charcuterie</td>\n",
       "      <td>vendeur-vendeuse-en-charcuterie</td>\n",
       "      <td>COMMERCE, VENTE ET GRANDE DISTRIBUTION</td>\n",
       "      <td>Commerce alimentaire et métiers de bouche</td>\n",
       "      <td>Vente en alimentation</td>\n",
       "    </tr>\n",
       "    <tr>\n",
       "      <th>20567</th>\n",
       "      <td>D</td>\n",
       "      <td>11</td>\n",
       "      <td>06</td>\n",
       "      <td>D1106</td>\n",
       "      <td>Vendeur / Vendeuse en chocolaterie</td>\n",
       "      <td>vendeur-vendeuse-en-chocolaterie</td>\n",
       "      <td>COMMERCE, VENTE ET GRANDE DISTRIBUTION</td>\n",
       "      <td>Commerce alimentaire et métiers de bouche</td>\n",
       "      <td>Vente en alimentation</td>\n",
       "    </tr>\n",
       "    <tr>\n",
       "      <th>20568</th>\n",
       "      <td>D</td>\n",
       "      <td>11</td>\n",
       "      <td>06</td>\n",
       "      <td>D1106</td>\n",
       "      <td>Vendeur / Vendeuse en confiserie</td>\n",
       "      <td>vendeur-vendeuse-en-confiserie</td>\n",
       "      <td>COMMERCE, VENTE ET GRANDE DISTRIBUTION</td>\n",
       "      <td>Commerce alimentaire et métiers de bouche</td>\n",
       "      <td>Vente en alimentation</td>\n",
       "    </tr>\n",
       "    <tr>\n",
       "      <th>20570</th>\n",
       "      <td>D</td>\n",
       "      <td>11</td>\n",
       "      <td>06</td>\n",
       "      <td>D1106</td>\n",
       "      <td>Vendeur / Vendeuse en crèmerie</td>\n",
       "      <td>vendeur-vendeuse-en-cremerie</td>\n",
       "      <td>COMMERCE, VENTE ET GRANDE DISTRIBUTION</td>\n",
       "      <td>Commerce alimentaire et métiers de bouche</td>\n",
       "      <td>Vente en alimentation</td>\n",
       "    </tr>\n",
       "    <tr>\n",
       "      <th>20576</th>\n",
       "      <td>D</td>\n",
       "      <td>11</td>\n",
       "      <td>06</td>\n",
       "      <td>D1106</td>\n",
       "      <td>Vendeur / Vendeuse en épicerie</td>\n",
       "      <td>vendeur-vendeuse-en-epicerie</td>\n",
       "      <td>COMMERCE, VENTE ET GRANDE DISTRIBUTION</td>\n",
       "      <td>Commerce alimentaire et métiers de bouche</td>\n",
       "      <td>Vente en alimentation</td>\n",
       "    </tr>\n",
       "    <tr>\n",
       "      <th>20577</th>\n",
       "      <td>D</td>\n",
       "      <td>11</td>\n",
       "      <td>06</td>\n",
       "      <td>D1106</td>\n",
       "      <td>Vendeur / Vendeuse en épicerie fine</td>\n",
       "      <td>vendeur-vendeuse-en-epicerie-fine</td>\n",
       "      <td>COMMERCE, VENTE ET GRANDE DISTRIBUTION</td>\n",
       "      <td>Commerce alimentaire et métiers de bouche</td>\n",
       "      <td>Vente en alimentation</td>\n",
       "    </tr>\n",
       "    <tr>\n",
       "      <th>20612</th>\n",
       "      <td>D</td>\n",
       "      <td>11</td>\n",
       "      <td>06</td>\n",
       "      <td>D1106</td>\n",
       "      <td>Vendeur / Vendeuse en poissonnerie</td>\n",
       "      <td>vendeur-vendeuse-en-poissonnerie</td>\n",
       "      <td>COMMERCE, VENTE ET GRANDE DISTRIBUTION</td>\n",
       "      <td>Commerce alimentaire et métiers de bouche</td>\n",
       "      <td>Vente en alimentation</td>\n",
       "    </tr>\n",
       "    <tr>\n",
       "      <th>38776</th>\n",
       "      <td>D</td>\n",
       "      <td>11</td>\n",
       "      <td>06</td>\n",
       "      <td>D1106</td>\n",
       "      <td>Vendeur / Vendeuse en produits biologiques</td>\n",
       "      <td>vendeur-vendeuse-en-produits-biologiques</td>\n",
       "      <td>COMMERCE, VENTE ET GRANDE DISTRIBUTION</td>\n",
       "      <td>Commerce alimentaire et métiers de bouche</td>\n",
       "      <td>Vente en alimentation</td>\n",
       "    </tr>\n",
       "    <tr>\n",
       "      <th>20622</th>\n",
       "      <td>D</td>\n",
       "      <td>11</td>\n",
       "      <td>06</td>\n",
       "      <td>D1106</td>\n",
       "      <td>Vendeur / Vendeuse en produits diététiques</td>\n",
       "      <td>vendeur-vendeuse-en-produits-dietetiques</td>\n",
       "      <td>COMMERCE, VENTE ET GRANDE DISTRIBUTION</td>\n",
       "      <td>Commerce alimentaire et métiers de bouche</td>\n",
       "      <td>Vente en alimentation</td>\n",
       "    </tr>\n",
       "    <tr>\n",
       "      <th>20623</th>\n",
       "      <td>D</td>\n",
       "      <td>11</td>\n",
       "      <td>06</td>\n",
       "      <td>D1106</td>\n",
       "      <td>Vendeur / Vendeuse en produits frais</td>\n",
       "      <td>vendeur-vendeuse-en-produits-frais</td>\n",
       "      <td>COMMERCE, VENTE ET GRANDE DISTRIBUTION</td>\n",
       "      <td>Commerce alimentaire et métiers de bouche</td>\n",
       "      <td>Vente en alimentation</td>\n",
       "    </tr>\n",
       "    <tr>\n",
       "      <th>20627</th>\n",
       "      <td>D</td>\n",
       "      <td>11</td>\n",
       "      <td>06</td>\n",
       "      <td>D1106</td>\n",
       "      <td>Vendeur / Vendeuse en rôtisserie</td>\n",
       "      <td>vendeur-vendeuse-en-rotisserie</td>\n",
       "      <td>COMMERCE, VENTE ET GRANDE DISTRIBUTION</td>\n",
       "      <td>Commerce alimentaire et métiers de bouche</td>\n",
       "      <td>Vente en alimentation</td>\n",
       "    </tr>\n",
       "    <tr>\n",
       "      <th>20635</th>\n",
       "      <td>D</td>\n",
       "      <td>11</td>\n",
       "      <td>06</td>\n",
       "      <td>D1106</td>\n",
       "      <td>Vendeur / Vendeuse en vins et spiritueux</td>\n",
       "      <td>vendeur-vendeuse-en-vins-et-spiritueux</td>\n",
       "      <td>COMMERCE, VENTE ET GRANDE DISTRIBUTION</td>\n",
       "      <td>Commerce alimentaire et métiers de bouche</td>\n",
       "      <td>Vente en alimentation</td>\n",
       "    </tr>\n",
       "    <tr>\n",
       "      <th>20645</th>\n",
       "      <td>D</td>\n",
       "      <td>11</td>\n",
       "      <td>06</td>\n",
       "      <td>D1106</td>\n",
       "      <td>Vendeur / Vendeuse rayon fromages</td>\n",
       "      <td>vendeur-vendeuse-rayon-fromages</td>\n",
       "      <td>COMMERCE, VENTE ET GRANDE DISTRIBUTION</td>\n",
       "      <td>Commerce alimentaire et métiers de bouche</td>\n",
       "      <td>Vente en alimentation</td>\n",
       "    </tr>\n",
       "    <tr>\n",
       "      <th>20646</th>\n",
       "      <td>D</td>\n",
       "      <td>11</td>\n",
       "      <td>06</td>\n",
       "      <td>D1106</td>\n",
       "      <td>Vendeur / Vendeuse rayon traiteur</td>\n",
       "      <td>vendeur-vendeuse-rayon-traiteur</td>\n",
       "      <td>COMMERCE, VENTE ET GRANDE DISTRIBUTION</td>\n",
       "      <td>Commerce alimentaire et métiers de bouche</td>\n",
       "      <td>Vente en alimentation</td>\n",
       "    </tr>\n",
       "  </tbody>\n",
       "</table>\n",
       "</div>"
      ],
      "text/plain": [
       "        famille domaine metier   ROME  \\\n",
       "ROMEbis                                 \n",
       "14863         D      11     06  D1106   \n",
       "16388         D      11     06  D1106   \n",
       "20525         D      11     06  D1106   \n",
       "20530         D      11     06  D1106   \n",
       "20540         D      11     06  D1106   \n",
       "20558         D      11     06  D1106   \n",
       "20559         D      11     06  D1106   \n",
       "20560         D      11     06  D1106   \n",
       "20564         D      11     06  D1106   \n",
       "20567         D      11     06  D1106   \n",
       "20568         D      11     06  D1106   \n",
       "20570         D      11     06  D1106   \n",
       "20576         D      11     06  D1106   \n",
       "20577         D      11     06  D1106   \n",
       "20612         D      11     06  D1106   \n",
       "38776         D      11     06  D1106   \n",
       "20622         D      11     06  D1106   \n",
       "20623         D      11     06  D1106   \n",
       "20627         D      11     06  D1106   \n",
       "20635         D      11     06  D1106   \n",
       "20645         D      11     06  D1106   \n",
       "20646         D      11     06  D1106   \n",
       "\n",
       "                                                label  \\\n",
       "ROMEbis                                                 \n",
       "14863                              Epicier / Epicière   \n",
       "16388       Marchand / Marchande de fruits et légumes   \n",
       "20525         Vendeur / Vendeuse de fruits et légumes   \n",
       "20530                  Vendeur / Vendeuse de primeurs   \n",
       "20540     Vendeur / Vendeuse en alimentation générale   \n",
       "20558                 Vendeur / Vendeuse en boucherie   \n",
       "20559     Vendeur / Vendeuse en boucherie-charcuterie   \n",
       "20560    Vendeur / Vendeuse en boulangerie-pâtisserie   \n",
       "20564               Vendeur / Vendeuse en charcuterie   \n",
       "20567              Vendeur / Vendeuse en chocolaterie   \n",
       "20568                Vendeur / Vendeuse en confiserie   \n",
       "20570                  Vendeur / Vendeuse en crèmerie   \n",
       "20576                  Vendeur / Vendeuse en épicerie   \n",
       "20577             Vendeur / Vendeuse en épicerie fine   \n",
       "20612              Vendeur / Vendeuse en poissonnerie   \n",
       "38776      Vendeur / Vendeuse en produits biologiques   \n",
       "20622      Vendeur / Vendeuse en produits diététiques   \n",
       "20623            Vendeur / Vendeuse en produits frais   \n",
       "20627                Vendeur / Vendeuse en rôtisserie   \n",
       "20635        Vendeur / Vendeuse en vins et spiritueux   \n",
       "20645               Vendeur / Vendeuse rayon fromages   \n",
       "20646               Vendeur / Vendeuse rayon traiteur   \n",
       "\n",
       "                                              slugs  \\\n",
       "ROMEbis                                               \n",
       "14863                              epicier-epiciere   \n",
       "16388       marchand-marchande-de-fruits-et-legumes   \n",
       "20525         vendeur-vendeuse-de-fruits-et-legumes   \n",
       "20530                  vendeur-vendeuse-de-primeurs   \n",
       "20540     vendeur-vendeuse-en-alimentation-generale   \n",
       "20558                 vendeur-vendeuse-en-boucherie   \n",
       "20559     vendeur-vendeuse-en-boucherie-charcuterie   \n",
       "20560    vendeur-vendeuse-en-boulangerie-patisserie   \n",
       "20564               vendeur-vendeuse-en-charcuterie   \n",
       "20567              vendeur-vendeuse-en-chocolaterie   \n",
       "20568                vendeur-vendeuse-en-confiserie   \n",
       "20570                  vendeur-vendeuse-en-cremerie   \n",
       "20576                  vendeur-vendeuse-en-epicerie   \n",
       "20577             vendeur-vendeuse-en-epicerie-fine   \n",
       "20612              vendeur-vendeuse-en-poissonnerie   \n",
       "38776      vendeur-vendeuse-en-produits-biologiques   \n",
       "20622      vendeur-vendeuse-en-produits-dietetiques   \n",
       "20623            vendeur-vendeuse-en-produits-frais   \n",
       "20627                vendeur-vendeuse-en-rotisserie   \n",
       "20635        vendeur-vendeuse-en-vins-et-spiritueux   \n",
       "20645               vendeur-vendeuse-rayon-fromages   \n",
       "20646               vendeur-vendeuse-rayon-traiteur   \n",
       "\n",
       "                                  famille_label  \\\n",
       "ROMEbis                                           \n",
       "14863    COMMERCE, VENTE ET GRANDE DISTRIBUTION   \n",
       "16388    COMMERCE, VENTE ET GRANDE DISTRIBUTION   \n",
       "20525    COMMERCE, VENTE ET GRANDE DISTRIBUTION   \n",
       "20530    COMMERCE, VENTE ET GRANDE DISTRIBUTION   \n",
       "20540    COMMERCE, VENTE ET GRANDE DISTRIBUTION   \n",
       "20558    COMMERCE, VENTE ET GRANDE DISTRIBUTION   \n",
       "20559    COMMERCE, VENTE ET GRANDE DISTRIBUTION   \n",
       "20560    COMMERCE, VENTE ET GRANDE DISTRIBUTION   \n",
       "20564    COMMERCE, VENTE ET GRANDE DISTRIBUTION   \n",
       "20567    COMMERCE, VENTE ET GRANDE DISTRIBUTION   \n",
       "20568    COMMERCE, VENTE ET GRANDE DISTRIBUTION   \n",
       "20570    COMMERCE, VENTE ET GRANDE DISTRIBUTION   \n",
       "20576    COMMERCE, VENTE ET GRANDE DISTRIBUTION   \n",
       "20577    COMMERCE, VENTE ET GRANDE DISTRIBUTION   \n",
       "20612    COMMERCE, VENTE ET GRANDE DISTRIBUTION   \n",
       "38776    COMMERCE, VENTE ET GRANDE DISTRIBUTION   \n",
       "20622    COMMERCE, VENTE ET GRANDE DISTRIBUTION   \n",
       "20623    COMMERCE, VENTE ET GRANDE DISTRIBUTION   \n",
       "20627    COMMERCE, VENTE ET GRANDE DISTRIBUTION   \n",
       "20635    COMMERCE, VENTE ET GRANDE DISTRIBUTION   \n",
       "20645    COMMERCE, VENTE ET GRANDE DISTRIBUTION   \n",
       "20646    COMMERCE, VENTE ET GRANDE DISTRIBUTION   \n",
       "\n",
       "                                     domaine_label             ROME_label  \n",
       "ROMEbis                                                                    \n",
       "14863    Commerce alimentaire et métiers de bouche  Vente en alimentation  \n",
       "16388    Commerce alimentaire et métiers de bouche  Vente en alimentation  \n",
       "20525    Commerce alimentaire et métiers de bouche  Vente en alimentation  \n",
       "20530    Commerce alimentaire et métiers de bouche  Vente en alimentation  \n",
       "20540    Commerce alimentaire et métiers de bouche  Vente en alimentation  \n",
       "20558    Commerce alimentaire et métiers de bouche  Vente en alimentation  \n",
       "20559    Commerce alimentaire et métiers de bouche  Vente en alimentation  \n",
       "20560    Commerce alimentaire et métiers de bouche  Vente en alimentation  \n",
       "20564    Commerce alimentaire et métiers de bouche  Vente en alimentation  \n",
       "20567    Commerce alimentaire et métiers de bouche  Vente en alimentation  \n",
       "20568    Commerce alimentaire et métiers de bouche  Vente en alimentation  \n",
       "20570    Commerce alimentaire et métiers de bouche  Vente en alimentation  \n",
       "20576    Commerce alimentaire et métiers de bouche  Vente en alimentation  \n",
       "20577    Commerce alimentaire et métiers de bouche  Vente en alimentation  \n",
       "20612    Commerce alimentaire et métiers de bouche  Vente en alimentation  \n",
       "38776    Commerce alimentaire et métiers de bouche  Vente en alimentation  \n",
       "20622    Commerce alimentaire et métiers de bouche  Vente en alimentation  \n",
       "20623    Commerce alimentaire et métiers de bouche  Vente en alimentation  \n",
       "20627    Commerce alimentaire et métiers de bouche  Vente en alimentation  \n",
       "20635    Commerce alimentaire et métiers de bouche  Vente en alimentation  \n",
       "20645    Commerce alimentaire et métiers de bouche  Vente en alimentation  \n",
       "20646    Commerce alimentaire et métiers de bouche  Vente en alimentation  "
      ]
     },
     "execution_count": 12,
     "metadata": {},
     "output_type": "execute_result"
    }
   ],
   "source": [
    "ROMEbis_df[ROMEbis_df.ROME == 'D1106']"
   ]
  },
  {
   "cell_type": "code",
   "execution_count": 13,
   "metadata": {
    "collapsed": true
   },
   "outputs": [],
   "source": [
    "ROMEbis_df.to_csv('../ROMEbis_df.csv', sep='|')    "
   ]
  },
  {
   "cell_type": "code",
   "execution_count": 14,
   "metadata": {
    "collapsed": true
   },
   "outputs": [],
   "source": [
    "ROMEbis_df = pd.read_csv('../ROMEbis_df.csv', index_col=0, sep='|', dtype=str)"
   ]
  },
  {
   "cell_type": "markdown",
   "metadata": {},
   "source": [
    "# ROME descriptions"
   ]
  },
  {
   "cell_type": "code",
   "execution_count": 15,
   "metadata": {
    "collapsed": false
   },
   "outputs": [],
   "source": [
    "ROME_DESCRIPTIONS = ROMEbis_df.label"
   ]
  },
  {
   "cell_type": "code",
   "execution_count": 16,
   "metadata": {
    "collapsed": false
   },
   "outputs": [],
   "source": [
    "ROME_DESCRIPTIONS.to_csv('../romebis_labels.csv')"
   ]
  },
  {
   "cell_type": "code",
   "execution_count": 17,
   "metadata": {
    "collapsed": false
   },
   "outputs": [],
   "source": [
    "ROME_DESCRIPTIONS = pd.read_csv('../romebis_labels.csv', index_col=0)"
   ]
  },
  {
   "cell_type": "code",
   "execution_count": 18,
   "metadata": {
    "collapsed": false
   },
   "outputs": [],
   "source": [
    "#ROME_DESCRIPTIONS.loc['D1106a']\n",
    "#ROME_DESCRIPTIONS.loc['20646']\n"
   ]
  },
  {
   "cell_type": "markdown",
   "metadata": {},
   "source": [
    "# ROMEbis x NAF"
   ]
  },
  {
   "cell_type": "code",
   "execution_count": 19,
   "metadata": {
    "collapsed": true
   },
   "outputs": [],
   "source": [
    "with open('../array_ROME1_fusion.pickle', 'rb') as f:\n",
    "    ROME1_fusion = pickle.load(f)"
   ]
  },
  {
   "cell_type": "code",
   "execution_count": 20,
   "metadata": {
    "collapsed": true
   },
   "outputs": [],
   "source": [
    "ROMExNAF = ROME1_fusion.sum(2)"
   ]
  },
  {
   "cell_type": "code",
   "execution_count": 21,
   "metadata": {
    "collapsed": true
   },
   "outputs": [],
   "source": [
    "with open('../array_offres_OGR.pickle', 'rb') as f:\n",
    "    offres_OGR = pickle.load(f)"
   ]
  },
  {
   "cell_type": "code",
   "execution_count": 22,
   "metadata": {
    "collapsed": false
   },
   "outputs": [
    {
     "data": {
      "text/plain": [
       "(732, 10877)"
      ]
     },
     "execution_count": 22,
     "metadata": {},
     "output_type": "execute_result"
    }
   ],
   "source": [
    "offres_OGR.shape"
   ]
  },
  {
   "cell_type": "code",
   "execution_count": 23,
   "metadata": {
    "collapsed": false,
    "scrolled": true
   },
   "outputs": [],
   "source": [
    "ROMEbis_NAF = np.zeros((len(NAF_df), len(ROMEbis_df)))\n",
    "\n",
    "# Fill for unmodified ROME\n",
    "for ROMEbis_index, ROMEbis in enumerate(ROMEbis_df.index):\n",
    "    if ROMEbis in ROME_df.index:  # ROME is nos modified\n",
    "        ROME_index = ROME_df.index.get_loc(ROMEbis)\n",
    "        ROMEbis_NAF[:, ROMEbis_index] = ROMExNAF[:, ROME_index]\n"
   ]
  },
  {
   "cell_type": "code",
   "execution_count": 24,
   "metadata": {
    "collapsed": false
   },
   "outputs": [
    {
     "name": "stderr",
     "output_type": "stream",
     "text": [
      "/home/michel/.virtualenvs/rome_naf/lib/python3.5/site-packages/ipykernel/__main__.py:26: RuntimeWarning: invalid value encountered in true_divide\n"
     ]
    }
   ],
   "source": [
    "for ROME, ROMEbis_data_list in decoupage_ROME.items():\n",
    "    ROME_index = ROME_df.index.get_loc(ROME)\n",
    "    \n",
    "    # Count job offers for the ROME\n",
    "    ROME_offres = np.zeros((len(NAF_df)))\n",
    "    for ROMEbis_data in ROMEbis_data_list:\n",
    "        OGRs = ROMEbis_data['OGRs']\n",
    "\n",
    "        for OGR in OGRs:\n",
    "            OGR_index = OGR_df.index.get_loc(OGR)\n",
    "            ROME_offres += offres_OGR[:, OGR_index]\n",
    "\n",
    "    # Fill for ROMEbis\n",
    "    for ROMEbis_data in ROMEbis_data_list:\n",
    "        OGRs = ROMEbis_data['OGRs']\n",
    "        ROMEbis = ROMEbis_data['name']\n",
    "        ROMEbis_index = ROMEbis_df.index.get_loc(ROMEbis)\n",
    "\n",
    "        ROMEbis_offres = np.zeros((len(NAF_df)))\n",
    "        for OGR in OGRs:\n",
    "            OGR_index = OGR_df.index.get_loc(OGR)\n",
    "            ROMEbis_offres += offres_OGR[:, OGR_index]\n",
    "\n",
    "        DPAE_for_ROME = ROMExNAF[:, ROME_index]\n",
    "        ROME_offres, ROMEbis_offres\n",
    "        DPAE_prorata = np.nan_to_num((ROMEbis_offres / ROME_offres) * DPAE_for_ROME)\n",
    "        DPAE_mean = DPAE_for_ROME / len(ROMEbis_data_list)\n",
    "        mask_prorata = (ROME_offres > 0)\n",
    "        # règle de trois, ou le cas du dénominateur nul est pris en compte séparément\n",
    "        ROMEbis_NAF[:, ROMEbis_index] = mask_prorata * DPAE_prorata + (1 - mask_prorata) * DPAE_mean\n",
    "\n"
   ]
  },
  {
   "cell_type": "code",
   "execution_count": 25,
   "metadata": {
    "collapsed": false
   },
   "outputs": [
    {
     "data": {
      "text/plain": [
       "2.4784507779429532e-11"
      ]
     },
     "execution_count": 25,
     "metadata": {},
     "output_type": "execute_result"
    }
   ],
   "source": [
    "# Difference between sums by NAF (should be small)\n",
    "np.abs(ROMEbis_NAF.sum(1) - ROMExNAF.sum(1)).sum()"
   ]
  },
  {
   "cell_type": "code",
   "execution_count": 26,
   "metadata": {
    "collapsed": false
   },
   "outputs": [],
   "source": [
    "ROMEbis_NAF = np.ceil(ROMEbis_NAF)"
   ]
  },
  {
   "cell_type": "code",
   "execution_count": 27,
   "metadata": {
    "collapsed": false
   },
   "outputs": [],
   "source": [
    "with open('../array_ROMEbis.pickle', 'wb') as f:\n",
    "    pickle.dump(ROMEbis_NAF, f)"
   ]
  },
  {
   "cell_type": "code",
   "execution_count": null,
   "metadata": {
    "collapsed": true
   },
   "outputs": [],
   "source": []
  }
 ],
 "metadata": {
  "kernelspec": {
   "display_name": "Python 3",
   "language": "python",
   "name": "python3"
  },
  "language_info": {
   "codemirror_mode": {
    "name": "ipython",
    "version": 3
   },
   "file_extension": ".py",
   "mimetype": "text/x-python",
   "name": "python",
   "nbconvert_exporter": "python",
   "pygments_lexer": "ipython3",
   "version": "3.5.2"
  }
 },
 "nbformat": 4,
 "nbformat_minor": 2
}
