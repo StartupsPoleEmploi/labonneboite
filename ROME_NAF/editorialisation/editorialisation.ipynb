{
 "cells": [
  {
   "cell_type": "code",
   "execution_count": 1,
   "metadata": {
    "collapsed": false
   },
   "outputs": [],
   "source": [
    "import pickle\n",
    "import shutil\n",
    "import os\n",
    "\n",
    "import xlsxwriter\n",
    "import pandas as pd\n",
    "import numpy as np\n",
    "from matplotlib import pyplot as plt\n",
    "%matplotlib inline"
   ]
  },
  {
   "cell_type": "markdown",
   "metadata": {},
   "source": [
    "# Charge les référentiels\n",
    "cf referentiels.py"
   ]
  },
  {
   "cell_type": "code",
   "execution_count": 2,
   "metadata": {
    "collapsed": true
   },
   "outputs": [],
   "source": [
    "ROME_df = pd.read_csv('../referentiels/referentiel_ROME/20150921_arboprincipale28427_ROME.csv', index_col=0, sep='|', dtype=str)\n",
    "OGR_df = pd.read_csv('../referentiels/referentiel_OGR/20150921_arboprincipale28427_OGR.csv', sep='|', dtype=str).set_index('OGR')\n",
    "NAF_df = pd.read_csv('../referentiels/referentiel_NAF/naf2008_liste_n5_nouveau_header.csv', sep='|', encoding=\"utf-8\").set_index(['NAF'])"
   ]
  },
  {
   "cell_type": "code",
   "execution_count": 3,
   "metadata": {
    "collapsed": true
   },
   "outputs": [],
   "source": [
    "tranches_effectif = ['00', '01', '02', '03', '11', '12', '21', '22', '31', '32', '41', '42', '51', '52', '53', 'NN']\n",
    "seuils_tranches_effectif = [0, 1, 3, 6, 10, 20, 50, 100, 200, 250, 500, 1000, 2000, 5000, 10000]"
   ]
  },
  {
   "cell_type": "markdown",
   "metadata": {},
   "source": [
    "# Charge les données"
   ]
  },
  {
   "cell_type": "code",
   "execution_count": 5,
   "metadata": {
    "collapsed": false
   },
   "outputs": [],
   "source": [
    "with open('../array_ROME1_ETT.pickle', 'rb') as f:\n",
    "    ROME1_ETT = pickle.load(f)\n",
    "with open('../array_ROME1_fusion.pickle', 'rb') as f:\n",
    "    ROME1_fusion = pickle.load(f)\n",
    "with open('../array_ROME1_CDI_CDD.pickle', 'rb') as f:\n",
    "    ROME1_CDI_CDD = pickle.load(f)\n",
    "with open('../array_ROME2_ETT.pickle', 'rb') as f:\n",
    "    ROME2_ETT = pickle.load(f)\n",
    "with open('../array_ROME2_fusion.pickle', 'rb') as f:\n",
    "    ROME2_fusion = pickle.load(f)\n",
    "with open('../array_ROME2_CDI_CDD.pickle', 'rb') as f:\n",
    "    ROME2_CDI_CDD = pickle.load(f)\n",
    "with open('../array_offres.pickle', 'rb') as f:\n",
    "    offres = pickle.load(f)\n",
    "with open('../array_offres_OGR.pickle', 'rb') as f:\n",
    "    offres_OGR = pickle.load(f)\n"
   ]
  },
  {
   "cell_type": "code",
   "execution_count": 6,
   "metadata": {
    "collapsed": false
   },
   "outputs": [
    {
     "data": {
      "text/plain": [
       "(531, 10877)"
      ]
     },
     "execution_count": 6,
     "metadata": {},
     "output_type": "execute_result"
    }
   ],
   "source": [
    "len(ROME_df), len(OGR_df)"
   ]
  },
  {
   "cell_type": "markdown",
   "metadata": {},
   "source": [
    "# Crée un XLSX"
   ]
  },
  {
   "cell_type": "code",
   "execution_count": 11,
   "metadata": {
    "collapsed": true
   },
   "outputs": [],
   "source": [
    "target_dir = '../tableaux'"
   ]
  },
  {
   "cell_type": "code",
   "execution_count": 12,
   "metadata": {
    "collapsed": true
   },
   "outputs": [],
   "source": [
    "offres_par_NAF = offres.sum(1)\n",
    "embauches_par_NAF = ROME1_fusion.sum(2).sum(1)\n",
    "suggestion_array = np.zeros((len(NAF_df), len(ROME_df)))\n",
    "\n",
    "def write_worksheet(worksheet, ROME, formats, suggestion_array):\n",
    "    ROME_label = ROME_df.loc[ROME].label\n",
    "    ROME_index = ROME_df.index.get_loc(ROME)\n",
    "    \n",
    "    row_cursor = 0\n",
    "    \n",
    "    worksheet.set_column(1, 1, 65)  # Labels\n",
    "\n",
    "    # ROME\n",
    "    \n",
    "    worksheet.write(row_cursor, 0, ROME)\n",
    "    worksheet.write(row_cursor, 1, ROME_label)\n",
    "    row_cursor += 2\n",
    "    \n",
    "    nb_embauches = ROME1_fusion[:, ROME_index, :].sum()\n",
    "    worksheet.write(row_cursor, 0, nb_embauches)\n",
    "    worksheet.write(row_cursor, 1, 'embauches pour ce ROME (ROME principal)')\n",
    "    row_cursor += 1\n",
    "    \n",
    "    nb_offres = offres[:, ROME_index].sum()\n",
    "    worksheet.write(row_cursor, 0, nb_offres)\n",
    "    worksheet.write(row_cursor, 1, \"offres d'emploi pour ce ROME\")\n",
    "    row_cursor += 2\n",
    "\n",
    "    \n",
    "    # Codes OGR\n",
    "    \n",
    "    worksheet.write(row_cursor, 0, \"Code OGR\")\n",
    "    worksheet.write(row_cursor, 1, \"Label OGR\")\n",
    "    worksheet.write(row_cursor, 2, \"Offres >= 30j (tous NAF)\")    \n",
    "    row_cursor += 1\n",
    "\n",
    "    OGRs = list(OGR_df[OGR_df.ROME==ROME].index)\n",
    "    nb_OGR = len(OGRs)\n",
    "    poids_OGR = np.array([offres_OGR[:, OGR_df.index.get_loc(OGR)].sum() for OGR in OGRs])\n",
    "    sorted_OGR_codes = [OGRs[i] for i in (-poids_OGR).argsort()]\n",
    "    for i in range(nb_OGR):\n",
    "        OGR = sorted_OGR_codes[i]\n",
    "        OGR_label = OGR_df.loc[OGR].label\n",
    "        OGR_index = OGR_df.index.get_loc(OGR)\n",
    "\n",
    "        worksheet.write(row_cursor + i, 0, OGR)\n",
    "        worksheet.write(row_cursor + i, 1, OGR_label)\n",
    "        worksheet.write(row_cursor + i, 2, offres_OGR[:, OGR_index].sum())\n",
    "    row_cursor += nb_OGR + 1\n",
    "\n",
    "    # Tri\n",
    "    \n",
    "    poids_NAF = ROME1_fusion[:, ROME_index, :].sum(1)\n",
    "    sorted_NAF_indexes = (-poids_NAF).argsort()  # [:20]\n",
    "    sorted_NAF_codes = [NAF_df.iloc[NAF_index].name for NAF_index in sorted_NAF_indexes]\n",
    "    sorted_NAF_labels = [NAF_df.loc[NAF_code].label for NAF_code in sorted_NAF_codes]\n",
    "    \n",
    "    # Données\n",
    "    \n",
    "    embauches_ROME1 = np.array([ROME1_fusion[NAF_index, ROME_index, :].sum() for NAF_index in sorted_NAF_indexes])\n",
    "    part_embauches_ROME1 = embauches_ROME1 / nb_embauches\n",
    "    embauches_ROME2 = np.array([ROME2_fusion[NAF_index, ROME_index, :].sum() for NAF_index in sorted_NAF_indexes])\n",
    "    quotient_ROME = embauches_ROME1 / (embauches_ROME1 + embauches_ROME2)\n",
    "    offres_column = np.array([offres[NAF_index, ROME_index] for NAF_index in sorted_NAF_indexes])\n",
    "    part_offres = offres_column / nb_offres\n",
    "    embauches_NAF = np.array([embauches_par_NAF[NAF_index] for NAF_index in sorted_NAF_indexes])\n",
    "    part_embauches_NAF = embauches_ROME1/embauches_NAF\n",
    "    offres_NAF = np.array([offres_par_NAF[NAF_index] for NAF_index in sorted_NAF_indexes])\n",
    "    part_offres_NAF = offres_column/offres_NAF\n",
    "    \n",
    "    # Couleurs\n",
    "    \n",
    "    def couleur_colonne(values):\n",
    "        return [formats['green'] if b else formats['red'] for b in values]\n",
    "    \n",
    "    def couleur_colonne_pourcent(values):\n",
    "        return [formats['pourcent_green'] if b else formats['pourcent_red'] for b in values]\n",
    "    \n",
    "    seuil_embauches_ROME1 = (embauches_ROME1 >= 10)\n",
    "    couleur_embauches_ROME1 = couleur_colonne(seuil_embauches_ROME1)\n",
    "\n",
    "    seuil_part_embauches_ROME1 = (part_embauches_ROME1 >= 0.01)\n",
    "    couleur_part_embauches_ROME1 = couleur_colonne_pourcent(seuil_part_embauches_ROME1)\n",
    "    \n",
    "    seuil_quotient_ROME = (quotient_ROME >= 0.66)\n",
    "    couleur_quotient_ROME = couleur_colonne_pourcent(seuil_quotient_ROME)\n",
    "    \n",
    "    seuil_offres = (offres_column >= 10)\n",
    "    couleur_offres = couleur_colonne(seuil_offres)\n",
    "    \n",
    "    seuil_part_offres = (part_offres >= 0.01)\n",
    "    couleur_part_offres = couleur_colonne_pourcent(seuil_part_offres)\n",
    "    \n",
    "    seuil_part_embauches_NAF = (part_embauches_NAF >= 0.01)\n",
    "    couleur_part_embauches_NAF = couleur_colonne_pourcent(seuil_part_embauches_NAF)\n",
    "    \n",
    "    seuil_part_offres_NAF = (part_offres_NAF >= 0.01)\n",
    "    couleur_part_offres_NAF = couleur_colonne_pourcent(seuil_part_offres_NAF)\n",
    "    \n",
    "    # Suggestion\n",
    "    suggestion = (\n",
    "        seuil_embauches_ROME1.astype(int) + seuil_part_embauches_ROME1 + seuil_quotient_ROME +\n",
    "        seuil_offres + seuil_part_offres + seuil_part_embauches_NAF + seuil_part_offres_NAF) > 3.5\n",
    "    suggestion = suggestion.astype(int)\n",
    "    for i, NAF_index in enumerate(sorted_NAF_indexes):\n",
    "        suggestion_array[NAF_index, ROME_index] = suggestion[i]\n",
    "    \n",
    "        \n",
    "    # Ecriture    \n",
    "    \n",
    "    header_col = 0\n",
    "    def write_column(title, comment, values=None, column_format=None):\n",
    "        nonlocal header_col\n",
    "        worksheet.write(row_cursor, header_col, title, formats['header'])\n",
    "        worksheet.write_comment(row_cursor, header_col, comment)\n",
    "        if values is not None:\n",
    "            if isinstance(column_format, list):\n",
    "                for i in range(len(NAF_df)):\n",
    "                    worksheet.write(row_cursor + 1 + i, header_col, values[i], column_format[i])\n",
    "            else:\n",
    "                worksheet.write_column(row_cursor + 1, header_col, values, column_format)\n",
    "                    \n",
    "        header_col += 1\n",
    "\n",
    "    write_column(\"Code NAF\", \"Les codes NAF (de septembre 2015) sont triés par ordre décroissant du nombre d'embauches (en ROME principal)\",\n",
    "        sorted_NAF_codes)\n",
    "    write_column(\"Label NAF\", \"\",\n",
    "        sorted_NAF_labels)\n",
    "    write_column(\"Décision\", \"Laisser vide pour suivre la suggestion, 1 pour un couple ROME/NAF à garder, 0 pour un couple ROME/NAF à ignorer\",\n",
    "        )\n",
    "    write_column(\"Suggestion\", \"Plus de colonnes vertes que rouges\",\n",
    "        suggestion)\n",
    "    write_column(\"R1\", \"Contrats >= 30j (ROME principal)\",\n",
    "        embauches_ROME1, couleur_embauches_ROME1)\n",
    "    write_column(\"%R1\", \"Part des embauches pour ce ROME (sur le ROME principal uniquement)\",\n",
    "        part_embauches_ROME1, couleur_part_embauches_ROME1)\n",
    "    write_column(\"R2\", \"Contrats >= 30j (ROME secondaire)\",\n",
    "        embauches_ROME2)\n",
    "    write_column(\"Part R1\", \"Part des embauches pour lequel le code ROME est principal et non secondaire (= R1/R1+R2)\",\n",
    "        quotient_ROME, couleur_quotient_ROME)\n",
    "    write_column(\"OF\", \"Offres >= 30j\",\n",
    "        offres_column, couleur_offres)\n",
    "    write_column(\"%OF\", \"Part des offres pour ce ROME\",\n",
    "        part_offres, couleur_part_offres)\n",
    "    write_column(\"EmbauchesNAF\", \"Embauches pour ce NAF (tous ROME confondus)\",\n",
    "        embauches_NAF)\n",
    "    write_column(\"%EmbauchesNAF\", \"Part des embauches de ce NAF (= R1/EmbauchesNAF)\",\n",
    "        part_embauches_NAF, couleur_part_embauches_NAF)\n",
    "    write_column(\"OffresNAF\", \"Offres pour ce NAF (tous ROME confondus)\",\n",
    "        offres_NAF)\n",
    "    write_column(\"%OffresNAF\", \"Part des offres de ce NAF (= OF/OffresNAF)\",\n",
    "        part_offres_NAF, couleur_part_offres_NAF)\n",
    "    write_column(\"Commentaire\", \"\",\n",
    "        )\n"
   ]
  },
  {
   "cell_type": "code",
   "execution_count": 13,
   "metadata": {
    "collapsed": false
   },
   "outputs": [
    {
     "name": "stderr",
     "output_type": "stream",
     "text": [
      "/home/michel/.virtualenvs/rome_naf/lib/python3.5/site-packages/ipykernel/__main__.py:63: RuntimeWarning: invalid value encountered in true_divide\n",
      "/home/michel/.virtualenvs/rome_naf/lib/python3.5/site-packages/ipykernel/__main__.py:67: RuntimeWarning: invalid value encountered in true_divide\n",
      "/home/michel/.virtualenvs/rome_naf/lib/python3.5/site-packages/ipykernel/__main__.py:69: RuntimeWarning: invalid value encountered in true_divide\n",
      "/home/michel/.virtualenvs/rome_naf/lib/python3.5/site-packages/ipykernel/__main__.py:85: RuntimeWarning: invalid value encountered in greater_equal\n",
      "/home/michel/.virtualenvs/rome_naf/lib/python3.5/site-packages/ipykernel/__main__.py:94: RuntimeWarning: invalid value encountered in greater_equal\n",
      "/home/michel/.virtualenvs/rome_naf/lib/python3.5/site-packages/ipykernel/__main__.py:97: RuntimeWarning: invalid value encountered in greater_equal\n"
     ]
    }
   ],
   "source": [
    "shutil.rmtree(target_dir, ignore_errors=True)\n",
    "os.mkdir(target_dir)\n",
    "\n",
    "familles = sorted(set(ROME_df.famille))\n",
    "for famille in familles:\n",
    "    ROME_famille = ROME_df[ROME_df.famille==famille]\n",
    "    famille_label = ROME_famille.iloc[0].famille_label\n",
    "    \n",
    "    famille_dir_name = '{} - {}'.format(famille, famille_label)\n",
    "    os.mkdir(os.path.join(target_dir, famille_dir_name))\n",
    "\n",
    "    domaines = sorted(set(ROME_famille.domaine))\n",
    "    for domaine in domaines:\n",
    "        ROME_domaine = ROME_famille[ROME_famille.domaine==domaine]\n",
    "        domaine_label = ROME_domaine.iloc[0].domaine_label\n",
    "\n",
    "        domaine_filename = '{} - {}.xlsx'.format(domaine, domaine_label)\n",
    "        domaine_path = os.path.join(target_dir, famille_dir_name, domaine_filename)\n",
    "        workbook = xlsxwriter.Workbook(domaine_path, {'nan_inf_to_errors': True})\n",
    "\n",
    "        format_pourcent = workbook.add_format()\n",
    "        format_pourcent.set_num_format(9)  # Magic number\n",
    "        format_pourcent_red = workbook.add_format()\n",
    "        format_pourcent_red.set_num_format(9)  # Magic number\n",
    "        format_pourcent_red.set_bg_color('red')\n",
    "        format_pourcent_green = workbook.add_format()\n",
    "        format_pourcent_green.set_num_format(9)  # Magic number\n",
    "        format_pourcent_green.set_bg_color('green')\n",
    "        format_red = workbook.add_format({'bg_color': 'red'})\n",
    "        format_green = workbook.add_format({'bg_color': 'green'})\n",
    "        format_header = workbook.add_format({'bold': True})\n",
    "        \n",
    "        ROMEs = sorted(set(ROME_domaine.index))\n",
    "        for ROME in ROMEs:\n",
    "            worksheet = workbook.add_worksheet(ROME)\n",
    "            \n",
    "            write_worksheet(worksheet, ROME, {\n",
    "                'pourcent': format_pourcent,\n",
    "                'pourcent_red': format_pourcent_red,\n",
    "                'pourcent_green': format_pourcent_green,\n",
    "                'red': format_red,\n",
    "                'green': format_green,\n",
    "                'header': format_header,\n",
    "            }, suggestion_array)\n",
    "\n",
    "        workbook.close()\n",
    "\n"
   ]
  },
  {
   "cell_type": "code",
   "execution_count": 14,
   "metadata": {
    "collapsed": false
   },
   "outputs": [],
   "source": [
    "with open('../suggestions.pickle', 'wb') as f:\n",
    "    pickle.dump(suggestion_array, f)"
   ]
  },
  {
   "cell_type": "code",
   "execution_count": null,
   "metadata": {
    "collapsed": true
   },
   "outputs": [],
   "source": []
  }
 ],
 "metadata": {
  "kernelspec": {
   "display_name": "Python 3",
   "language": "python",
   "name": "python3"
  },
  "language_info": {
   "codemirror_mode": {
    "name": "ipython",
    "version": 3
   },
   "file_extension": ".py",
   "mimetype": "text/x-python",
   "name": "python",
   "nbconvert_exporter": "python",
   "pygments_lexer": "ipython3",
   "version": "3.5.2"
  }
 },
 "nbformat": 4,
 "nbformat_minor": 2
}
