{
 "cells": [
  {
   "cell_type": "code",
   "execution_count": 1,
   "metadata": {
    "collapsed": true
   },
   "outputs": [],
   "source": [
    "import string\n",
    "import pickle\n",
    "\n",
    "import pandas as pd\n"
   ]
  },
  {
   "cell_type": "markdown",
   "metadata": {},
   "source": [
    "# Load data"
   ]
  },
  {
   "cell_type": "code",
   "execution_count": 2,
   "metadata": {
    "collapsed": false
   },
   "outputs": [],
   "source": [
    "ROME_df = pd.read_csv('../referentiels/referentiel_ROME/20150921_arboprincipale28427_ROME.csv', index_col=0, sep='|', dtype=str)\n",
    "OGR_df = pd.read_csv('../referentiels/referentiel_OGR/20150921_arboprincipale28427_OGR.csv', sep='|', dtype=str).set_index('OGR')\n",
    "NAF_df = pd.read_csv('../referentiels/referentiel_NAF/naf2008_liste_n5_nouveau_header.csv', sep='|', encoding=\"utf-8\").set_index(['NAF'])"
   ]
  },
  {
   "cell_type": "code",
   "execution_count": 3,
   "metadata": {
    "collapsed": true
   },
   "outputs": [],
   "source": [
    "with open('../decoupage_manuel_ROME.txt', 'r') as f:\n",
    "    data = f.read()"
   ]
  },
  {
   "cell_type": "markdown",
   "metadata": {},
   "source": [
    "# Parse data"
   ]
  },
  {
   "cell_type": "code",
   "execution_count": 4,
   "metadata": {
    "collapsed": false
   },
   "outputs": [],
   "source": [
    "lines = data.split('\\n')\n",
    "\n",
    "def begin_ROME(line_number, line):\n",
    "    words = line.split(' ')\n",
    "    assert words[0] == '***', 'Erreur! J\\'attendais \"*** Z1234 xxx ***\" (ligne {})'.format(line_number)\n",
    "    current_ROME = words[1]\n",
    "    assert current_ROME in ROME_df.index, 'Erreur! Code ROME \"{}\" inconnu (ligne {})'.format(current_ROME, line_number)\n",
    "    return current_ROME\n",
    "\n",
    "current_ROME = None\n",
    "current_group_OGRs = None\n",
    "current_group_name = None\n",
    "groups = {}\n",
    "for line_number, line in enumerate(lines):\n",
    "    line = line.strip()\n",
    "    \n",
    "    if line == '':\n",
    "        if current_group_name:\n",
    "            assert current_group_OGRs, 'Erreur! Le groupe \"{}\" est vide (ligne {})'.format(current_group_name, line_number)\n",
    "            groups[current_ROME].append({'label': current_group_name, 'OGRs': current_group_OGRs})\n",
    "            current_group_name = None\n",
    "            current_group_OGRs = None\n",
    "    else:\n",
    "        if current_group_name:\n",
    "            words = line.split(' ')\n",
    "            OGR = words[0]\n",
    "            assert OGR in set(OGR_df[OGR_df.ROME == current_ROME].index), 'Erreur! Le code OGR \"{}\" ne fais pas partie du code ROME \"{}\" (ligne {})'.format(OGR, current_ROME, line_number)\n",
    "            current_group_OGRs.append(OGR)\n",
    "        elif current_ROME:\n",
    "            words = line.split(' ')\n",
    "            if words[0] == '***':\n",
    "                list_OGRs = []\n",
    "                for group in groups[current_ROME]:\n",
    "                    list_OGRs += group['OGRs']\n",
    "                set_OGRs_in_data = set(list_OGRs)\n",
    "                assert len(set_OGRs_in_data) == len(list_OGRs), 'Erreur! Un code OGR est présent dans plusieurs groupes du code ROME \"{}\" (ligne {})'.format(current_ROME, line_number)\n",
    "                set_OGRs = set(OGR_df[OGR_df.ROME == current_ROME].index)\n",
    "                assert set_OGRs_in_data == set_OGRs, 'Erreur! Tous les codes OGR ne sont pas classés pour le code ROME \"{}\" : {} vs {} (ligne {})'.format(current_ROME, set_OGRs_in_data, set_OGRs, line_number)\n",
    "            \n",
    "                current_ROME = begin_ROME(line_number, line)\n",
    "                assert current_ROME not in groups, 'Erreur! Le ROME \"{}\" est déjà défini (ligne {})'.format(current_ROME, line_number)\n",
    "                groups[current_ROME] = []\n",
    "            else:\n",
    "                current_group_name = line\n",
    "                current_group_OGRs = []\n",
    "\n",
    "        else:\n",
    "            current_ROME = begin_ROME(line_number, line)\n",
    "            assert current_ROME not in groups, 'Erreur! Le ROME \"{}\" est déjà défini (ligne {})'.format(current_ROME, line_number)\n",
    "            groups[current_ROME] = []\n",
    "\n",
    "            \n",
    "        \n",
    "assert current_group_name not in {group['label'] for group in groups[current_ROME]}, 'Erreur! Le nom \"{}\" est déjà définiTous les codes OGR ne sont pas classés pour le code ROME \"{}\" (ligne {})'.format(current_ROME, line_number)\n"
   ]
  },
  {
   "cell_type": "markdown",
   "metadata": {},
   "source": [
    "# Nommage des regroupements"
   ]
  },
  {
   "cell_type": "code",
   "execution_count": 5,
   "metadata": {
    "collapsed": false
   },
   "outputs": [
    {
     "data": {
      "text/plain": [
       "'abcdefghijklmnopqrstuvwxyz'"
      ]
     },
     "execution_count": 5,
     "metadata": {},
     "output_type": "execute_result"
    }
   ],
   "source": [
    "suffixes = string.ascii_lowercase\n",
    "suffixes\n"
   ]
  },
  {
   "cell_type": "code",
   "execution_count": 6,
   "metadata": {
    "collapsed": false
   },
   "outputs": [],
   "source": [
    "\n",
    "for ROME, ROME_groups in groups.items():\n",
    "    for i, group in enumerate(ROME_groups):\n",
    "        label = group['label']\n",
    "        OGRs = group['OGRs']\n",
    "        group['name'] = ROME + suffixes[i]"
   ]
  },
  {
   "cell_type": "code",
   "execution_count": 7,
   "metadata": {
    "collapsed": false
   },
   "outputs": [
    {
     "data": {
      "text/plain": [
       "{'D1106': [{'OGRs': ['20560', '20567', '20568'],\n",
       "   'label': 'Vendeur / Vendeuse en boulangerie-pâtisserie',\n",
       "   'name': 'D1106a'},\n",
       "  {'OGRs': ['20576', '20577', '20540', '14863'],\n",
       "   'label': 'Vendeur / Vendeuse en épicerie',\n",
       "   'name': 'D1106b'},\n",
       "  {'OGRs': ['20525', '16388', '20530'],\n",
       "   'label': 'Vendeur / Vendeuse de fruits et légumes',\n",
       "   'name': 'D1106c'},\n",
       "  {'OGRs': ['20570', '20623', '20645'],\n",
       "   'label': 'Vendeur / Vendeuse en crèmerie-fromagerie',\n",
       "   'name': 'D1106d'},\n",
       "  {'OGRs': ['38776', '20622'],\n",
       "   'label': 'Vendeur / Vendeuse en produits biologiques-diététiques',\n",
       "   'name': 'D1106e'},\n",
       "  {'OGRs': ['20646', '20558', '20564', '20559', '20627'],\n",
       "   'label': 'Vendeur / Vendeuse en boucherie-charcuterie',\n",
       "   'name': 'D1106f'},\n",
       "  {'OGRs': ['20612'],\n",
       "   'label': 'Vendeur / Vendeuse en poissonnerie',\n",
       "   'name': 'D1106g'},\n",
       "  {'OGRs': ['20635'],\n",
       "   'label': 'Vendeur / Vendeuse en vins et spiritueux',\n",
       "   'name': 'D1106h'}]}"
      ]
     },
     "execution_count": 7,
     "metadata": {},
     "output_type": "execute_result"
    }
   ],
   "source": [
    "groups"
   ]
  },
  {
   "cell_type": "code",
   "execution_count": 8,
   "metadata": {
    "collapsed": false
   },
   "outputs": [],
   "source": [
    "with open('../decoupage_ROME.pickle', 'wb') as f:\n",
    "    pickle.dump(groups, f)"
   ]
  },
  {
   "cell_type": "code",
   "execution_count": null,
   "metadata": {
    "collapsed": true
   },
   "outputs": [],
   "source": []
  }
 ],
 "metadata": {
  "kernelspec": {
   "display_name": "Python 3",
   "language": "python",
   "name": "python3"
  },
  "language_info": {
   "codemirror_mode": {
    "name": "ipython",
    "version": 3
   },
   "file_extension": ".py",
   "mimetype": "text/x-python",
   "name": "python",
   "nbconvert_exporter": "python",
   "pygments_lexer": "ipython3",
   "version": "3.5.2"
  }
 },
 "nbformat": 4,
 "nbformat_minor": 2
}
