{
 "cells": [
  {
   "cell_type": "code",
   "execution_count": 38,
   "metadata": {
    "collapsed": true
   },
   "outputs": [],
   "source": [
    "import string\n",
    "import pickle\n",
    "\n",
    "import pandas as pd\n"
   ]
  },
  {
   "cell_type": "markdown",
   "metadata": {},
   "source": [
    "# Load data"
   ]
  },
  {
   "cell_type": "code",
   "execution_count": 6,
   "metadata": {
    "collapsed": false
   },
   "outputs": [],
   "source": [
    "ROME_df = pd.read_csv('../referentiels/referentiel_ROME/20150921_arboprincipale28427_ROME.csv', index_col=0, sep='|', dtype=str)\n",
    "OGR_df = pd.read_csv('../referentiels/referentiel_OGR/20150921_arboprincipale28427_OGR.csv', sep='|', dtype=str).set_index('OGR')\n",
    "NAF_df = pd.read_csv('../referentiels/referentiel_NAF/naf2008_liste_n5_nouveau_header.csv', sep='|', encoding=\"utf-8\").set_index(['NAF'])"
   ]
  },
  {
   "cell_type": "code",
   "execution_count": 24,
   "metadata": {
    "collapsed": true
   },
   "outputs": [],
   "source": [
    "data = '''\n",
    "*** D1106 : Vente en alimentation ***\n",
    "\n",
    "Vendeur / Vendeuse en boulangerie-pâtisserie\n",
    "20560 Vendeur / Vendeuse en boulangerie-pâtisserie (45782.0)\n",
    "\n",
    "Vendeur / Vendeuse en chocolaterie-confiserie\n",
    "20567 Vendeur / Vendeuse en chocolaterie (2981.0)\n",
    "20568 Vendeur / Vendeuse en confiserie (811.0)\n",
    "\n",
    "Vendeur / Vendeuse en épicerie\n",
    "20576 Vendeur / Vendeuse en épicerie (1467.0)\n",
    "20577 Vendeur / Vendeuse en épicerie fine (2868.0)\n",
    "20570 Vendeur / Vendeuse en crèmerie (434.0)\n",
    "38776 Vendeur / Vendeuse en produits biologiques (2067.0)\n",
    "20622 Vendeur / Vendeuse en produits diététiques (1062.0)\n",
    "\n",
    "Vendeur / Vendeuse en alimentation générale\n",
    "20525 Vendeur / Vendeuse de fruits et légumes (3062.0)\n",
    "16388 Marchand / Marchande de fruits et légumes (51.0)\n",
    "20530 Vendeur / Vendeuse de primeurs (249.0)\n",
    "20540 Vendeur / Vendeuse en alimentation générale (3395.0)\n",
    "14863 Epicier / Epicière (353.0)\n",
    "20558 Vendeur / Vendeuse en boucherie (1443.0)\n",
    "20559 Vendeur / Vendeuse en boucherie-charcuterie (2069.0)\n",
    "20627 Vendeur / Vendeuse en rôtisserie (236.0)\n",
    "20564 Vendeur / Vendeuse en charcuterie (4729.0)\n",
    "20612 Vendeur / Vendeuse en poissonnerie (3842.0)\n",
    "20623 Vendeur / Vendeuse en produits frais (1928.0)\n",
    "20645 Vendeur / Vendeuse rayon fromages (1194.0)\n",
    "20646 Vendeur / Vendeuse rayon traiteur (926.0)\n",
    "\n",
    "Vendeur / Vendeuse en vins et spiritueux\n",
    "20635 Vendeur / Vendeuse en vins et spiritueux (1913.0)\n",
    "\n",
    "\n",
    "*** A1201 : Bûcheronnage et élagage ***\n",
    "   \n",
    "Bûcheron / Bûcheronne\n",
    "11606 Bûcheron / Bûcheronne (1738.0)\n",
    "12755 Commis / Commise de coupe (59.0)\n",
    "17483 Ouvrier / Ouvrière d'exploitation forestière (244.0)\n",
    "11607 Bûcheron élagueur / Bûcheronne élagueuse (589.0)\n",
    "   \n",
    "Elagueur / Elagueuse\n",
    "14608 Elagueur / Elagueuse (1279.0)\n",
    "14610 Elagueur-botteur / Elagueuse-botteuse (4.0)\n",
    "38435 Homme / Femme de pied (134.0)\n",
    "14609 Elagueur / Elagueuse espaces verts (408.0)\n",
    "14611 Elagueur-grimpeur / Elagueuse-grimpeuse (1054.0)\n",
    "11106 Arboriste grimpeur / grimpeuse (88.0)\n",
    "15429 Grimpeur-élagueur / Grimpeuse-élagueuse (143.0)\n",
    "14607 Ehouppeur / Ehouppeuse (0.0)\n",
    "\n",
    "'''"
   ]
  },
  {
   "cell_type": "markdown",
   "metadata": {},
   "source": [
    "# Parse data"
   ]
  },
  {
   "cell_type": "code",
   "execution_count": 32,
   "metadata": {
    "collapsed": false
   },
   "outputs": [],
   "source": [
    "lines = data.split('\\n')\n",
    "\n",
    "def begin_ROME(line_number, line):\n",
    "    words = line.split(' ')\n",
    "    assert words[0] == '***', 'Erreur! J\\'attendais \"*** Z1234 xxx ***\" (ligne {})'.format(line_number)\n",
    "    current_ROME = words[1]\n",
    "    assert current_ROME in ROME_df.index, 'Erreur! Code ROME \"{}\" inconnu (ligne {})'.format(current_ROME, line_number)\n",
    "    return current_ROME\n",
    "\n",
    "current_ROME = None\n",
    "current_group_OGRs = None\n",
    "current_group_name = None\n",
    "groups = {}\n",
    "for line_number, line in enumerate(lines):\n",
    "    line = line.strip()\n",
    "    \n",
    "    if line == '':\n",
    "        if current_group_name:\n",
    "            assert current_group_OGRs, 'Erreur! Le groupe \"{}\" est vide (ligne {})'.format(current_group_name, line_number)\n",
    "            groups[current_ROME].append({'label': current_group_name, 'OGRs': current_group_OGRs})\n",
    "            current_group_name = None\n",
    "            current_group_OGRs = None\n",
    "    else:\n",
    "        if current_group_name:\n",
    "            words = line.split(' ')\n",
    "            OGR = words[0]\n",
    "            assert OGR in set(OGR_df[OGR_df.ROME == current_ROME].index), 'Erreur! Le code OGR \"{}\" ne fais pas partie du code ROME \"{}\" (ligne {})'.format(OGR, current_ROME, line_number)\n",
    "            current_group_OGRs.append(OGR)\n",
    "        elif current_ROME:\n",
    "            words = line.split(' ')\n",
    "            if words[0] == '***':\n",
    "                list_OGRs = []\n",
    "                for group in groups[current_ROME]:\n",
    "                    list_OGRs += group['OGRs']\n",
    "                set_OGRs_in_data = set(list_OGRs)\n",
    "                assert len(set_OGRs_in_data) == len(list_OGRs), 'Erreur! Un code OGR est présent dans plusieurs groupes du code ROME \"{}\" (ligne {})'.format(current_ROME, line_number)\n",
    "                set_OGRs = set(OGR_df[OGR_df.ROME == current_ROME].index)\n",
    "                assert set_OGRs_in_data == set_OGRs, 'Erreur! Tous les codes OGR ne sont pas classés pour le code ROME \"{}\" : {} vs {} (ligne {})'.format(current_ROME, set_OGRs_in_data, set_OGRs, line_number)\n",
    "            \n",
    "                current_ROME = begin_ROME(line_number, line)\n",
    "                assert current_ROME not in groups, 'Erreur! Le ROME \"{}\" est déjà défini (ligne {})'.format(current_ROME, line_number)\n",
    "                groups[current_ROME] = []\n",
    "            else:\n",
    "                current_group_name = line\n",
    "                current_group_OGRs = []\n",
    "\n",
    "        else:\n",
    "            current_ROME = begin_ROME(line_number, line)\n",
    "            assert current_ROME not in groups, 'Erreur! Le ROME \"{}\" est déjà défini (ligne {})'.format(current_ROME, line_number)\n",
    "            groups[current_ROME] = []\n",
    "\n",
    "            \n",
    "        \n",
    "assert current_group_name not in {group['label'] for group in groups[current_ROME]}, 'Erreur! Le nom \"{}\" est déjà définiTous les codes OGR ne sont pas classés pour le code ROME \"{}\" (ligne {})'.format(current_ROME, line_number)\n"
   ]
  },
  {
   "cell_type": "markdown",
   "metadata": {},
   "source": [
    "# Nommage des regroupements"
   ]
  },
  {
   "cell_type": "code",
   "execution_count": 30,
   "metadata": {
    "collapsed": false
   },
   "outputs": [
    {
     "data": {
      "text/plain": [
       "'abcdefghijklmnopqrstuvwxyz'"
      ]
     },
     "execution_count": 30,
     "metadata": {},
     "output_type": "execute_result"
    }
   ],
   "source": [
    "suffixes = string.ascii_lowercase\n",
    "suffixes\n"
   ]
  },
  {
   "cell_type": "code",
   "execution_count": 35,
   "metadata": {
    "collapsed": false
   },
   "outputs": [],
   "source": [
    "\n",
    "for ROME, ROME_groups in groups.items():\n",
    "    for i, group in enumerate(ROME_groups):\n",
    "        label = group['label']\n",
    "        OGRs = group['OGRs']\n",
    "        group['name'] = ROME + suffixes[i]"
   ]
  },
  {
   "cell_type": "code",
   "execution_count": 36,
   "metadata": {
    "collapsed": false
   },
   "outputs": [
    {
     "data": {
      "text/plain": [
       "{'A1201': [{'OGRs': ['11606', '12755', '17483', '11607'],\n",
       "   'label': 'Bûcheron / Bûcheronne',\n",
       "   'name': 'A1201a'},\n",
       "  {'OGRs': ['14608',\n",
       "    '14610',\n",
       "    '38435',\n",
       "    '14609',\n",
       "    '14611',\n",
       "    '11106',\n",
       "    '15429',\n",
       "    '14607'],\n",
       "   'label': 'Elagueur / Elagueuse',\n",
       "   'name': 'A1201b'}],\n",
       " 'D1106': [{'OGRs': ['20560'],\n",
       "   'label': 'Vendeur / Vendeuse en boulangerie-pâtisserie',\n",
       "   'name': 'D1106a'},\n",
       "  {'OGRs': ['20567', '20568'],\n",
       "   'label': 'Vendeur / Vendeuse en chocolaterie-confiserie',\n",
       "   'name': 'D1106b'},\n",
       "  {'OGRs': ['20576', '20577', '20570', '38776', '20622'],\n",
       "   'label': 'Vendeur / Vendeuse en épicerie',\n",
       "   'name': 'D1106c'},\n",
       "  {'OGRs': ['20525',\n",
       "    '16388',\n",
       "    '20530',\n",
       "    '20540',\n",
       "    '14863',\n",
       "    '20558',\n",
       "    '20559',\n",
       "    '20627',\n",
       "    '20564',\n",
       "    '20612',\n",
       "    '20623',\n",
       "    '20645',\n",
       "    '20646'],\n",
       "   'label': 'Vendeur / Vendeuse en alimentation générale',\n",
       "   'name': 'D1106d'},\n",
       "  {'OGRs': ['20635'],\n",
       "   'label': 'Vendeur / Vendeuse en vins et spiritueux',\n",
       "   'name': 'D1106e'}]}"
      ]
     },
     "execution_count": 36,
     "metadata": {},
     "output_type": "execute_result"
    }
   ],
   "source": [
    "groups"
   ]
  },
  {
   "cell_type": "code",
   "execution_count": 39,
   "metadata": {
    "collapsed": false
   },
   "outputs": [],
   "source": [
    "with open('../decoupage_ROME.pickle', 'wb') as f:\n",
    "    pickle.dump(groups, f)"
   ]
  },
  {
   "cell_type": "code",
   "execution_count": null,
   "metadata": {
    "collapsed": true
   },
   "outputs": [],
   "source": []
  }
 ],
 "metadata": {
  "kernelspec": {
   "display_name": "Python 3",
   "language": "python",
   "name": "python3"
  },
  "language_info": {
   "codemirror_mode": {
    "name": "ipython",
    "version": 3
   },
   "file_extension": ".py",
   "mimetype": "text/x-python",
   "name": "python",
   "nbconvert_exporter": "python",
   "pygments_lexer": "ipython3",
   "version": "3.5.2"
  }
 },
 "nbformat": 4,
 "nbformat_minor": 2
}
