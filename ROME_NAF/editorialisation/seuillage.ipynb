{
 "cells": [
  {
   "cell_type": "code",
   "execution_count": 11,
   "metadata": {
    "collapsed": true
   },
   "outputs": [],
   "source": [
    "import string\n",
    "import pickle\n",
    "\n",
    "import pandas as pd\n",
    "import numpy as np"
   ]
  },
  {
   "cell_type": "markdown",
   "metadata": {},
   "source": [
    "# Load data"
   ]
  },
  {
   "cell_type": "code",
   "execution_count": 2,
   "metadata": {
    "collapsed": true
   },
   "outputs": [],
   "source": [
    "ROME_df = pd.read_csv('../referentiels/referentiel_ROME/20150921_arboprincipale28427_ROME.csv', index_col=0, sep='|', dtype=str)\n",
    "OGR_df = pd.read_csv('../referentiels/referentiel_OGR/20150921_arboprincipale28427_OGR.csv', sep='|', dtype=str).set_index('OGR')\n",
    "NAF_df = pd.read_csv('../referentiels/referentiel_NAF/naf2008_liste_n5_nouveau_header.csv', sep='|', encoding=\"utf-8\").set_index(['NAF'])"
   ]
  },
  {
   "cell_type": "code",
   "execution_count": 3,
   "metadata": {
    "collapsed": true
   },
   "outputs": [],
   "source": [
    "with open('../array_ROME1_fusion.pickle', 'rb') as f:\n",
    "    ROME1_fusion = pickle.load(f)"
   ]
  },
  {
   "cell_type": "code",
   "execution_count": 4,
   "metadata": {
    "collapsed": true
   },
   "outputs": [],
   "source": [
    "ROMExNAF = ROME1_fusion.sum(2)"
   ]
  },
  {
   "cell_type": "code",
   "execution_count": 5,
   "metadata": {
    "collapsed": true
   },
   "outputs": [],
   "source": [
    "with open('../array_offres_OGR.pickle', 'rb') as f:\n",
    "    offres_OGR = pickle.load(f)"
   ]
  },
  {
   "cell_type": "markdown",
   "metadata": {},
   "source": [
    "# Seuillage"
   ]
  },
  {
   "cell_type": "code",
   "execution_count": 7,
   "metadata": {
    "collapsed": true
   },
   "outputs": [],
   "source": [
    "threshold = 10000"
   ]
  },
  {
   "cell_type": "code",
   "execution_count": 8,
   "metadata": {
    "collapsed": false
   },
   "outputs": [],
   "source": [
    "ROME_DPAE = ROMExNAF.sum(0)"
   ]
  },
  {
   "cell_type": "code",
   "execution_count": 17,
   "metadata": {
    "collapsed": false
   },
   "outputs": [],
   "source": [
    "ROMEs_to_chop_indexes = np.where(ROME_DPAE>threshold)[0]\n",
    "ROMEs_to_chop = [ROME_df.index[ROME_index] for ROME_index in ROMEs_to_chop_indexes]"
   ]
  },
  {
   "cell_type": "code",
   "execution_count": 20,
   "metadata": {
    "collapsed": false
   },
   "outputs": [
    {
     "data": {
      "text/plain": [
       "128"
      ]
     },
     "execution_count": 20,
     "metadata": {},
     "output_type": "execute_result"
    }
   ],
   "source": [
    "len(ROMEs_to_chop)"
   ]
  },
  {
   "cell_type": "code",
   "execution_count": 44,
   "metadata": {
    "collapsed": false
   },
   "outputs": [
    {
     "name": "stdout",
     "output_type": "stream",
     "text": [
      "Entretien des espaces verts\n",
      "Horticulture et maraîchage\n",
      "Polyculture, élevage\n",
      "Accueil et services bancaires\n",
      "Gestion de clientèle bancaire\n",
      "Transaction immobilière\n",
      "Boucherie\n",
      "Boulangerie - viennoiserie\n",
      "Pâtisserie, confiserie, chocolaterie et glacerie\n",
      "Vente en alimentation\n",
      "Coiffure\n",
      "Soins esthétiques et corporels\n",
      "Vente de végétaux\n",
      "Vente en articles de sport et loisirs\n",
      "Vente en décoration et équipement du foyer\n",
      "Vente en habillement et accessoires de la personne\n",
      "Management de magasin de détail\n",
      "Assistanat commercial\n",
      "Relation commerciale grands comptes et entreprises\n",
      "Relation commerciale auprès de particuliers\n",
      "Management en force de vente\n",
      "Relation technico-commerciale\n",
      "Téléconseil et télévente\n",
      "Personnel de caisse\n",
      "Mise en rayon libre-service\n",
      "Communication\n",
      "Journalisme et information média\n",
      "Réalisation de contenus multimédias\n",
      "Dessin BTP\n",
      "Ingénierie et études du BTP\n",
      "Conduite de travaux du BTP\n",
      "Direction de chantier du BTP\n",
      "Conduite d'engins de terrassement et de carrière\n",
      "Électricité bâtiment\n",
      "Installation d'équipements sanitaires et thermiques\n",
      "Montage d'agencements\n",
      "Peinture en bâtiment\n",
      "Pose de fermetures menuisées\n",
      "Pose de revêtements rigides\n",
      "Pose et restauration de couvertures\n",
      "Réalisation et restauration de façades\n",
      "Construction en béton\n",
      "Construction de routes et voies\n",
      "Maçonnerie\n",
      "Préparation du gros oeuvre et des travaux publics\n",
      "Accueil touristique\n",
      "Animation d'activités culturelles ou ludiques\n",
      "Animation de loisirs auprès d'enfants ou d'adolescents\n",
      "Éducation en activités sportives\n",
      "Assistance de direction d'hôtel-restaurant\n",
      "Management d'hôtel-restaurant\n",
      "Personnel d'étage\n",
      "Management du personnel de cuisine\n",
      "Personnel de cuisine\n",
      "Personnel polyvalent en restauration\n",
      "Plonge en restauration\n",
      "Réception en hôtellerie\n",
      "Café, bar brasserie\n",
      "Management du service en restauration\n",
      "Service en restauration\n",
      "Conception et dessin produits mécaniques\n",
      "Management et ingénierie études, recherche et développement industriel\n",
      "Management et ingénierie qualité industrielle\n",
      "Intervention technique en laboratoire d'analyse industrielle\n",
      "Conduite d'équipement de production alimentaire\n",
      "Réalisation de menuiserie bois et tonnellerie\n",
      "Management et ingénierie de production\n",
      "Câblage électrique et électromécanique\n",
      "Chaudronnerie - tôlerie\n",
      "Conduite d'équipement d'usinage\n",
      "Montage-assemblage mécanique\n",
      "Soudage manuel\n",
      "Conduite d'équipement de conditionnement\n",
      "Opérations manuelles d'assemblage, tri ou emballage\n",
      "Maintenance des bâtiments et des locaux\n",
      "Installation et maintenance d'équipements industriels et d'exploitation\n",
      "Installation et maintenance en froid, conditionnement d'air\n",
      "Maintenance électrique\n",
      "Maintenance informatique et bureautique\n",
      "Mécanique automobile et entretien de véhicules\n",
      "Réparation de carrosserie\n",
      "Personnel polyvalent des services hospitaliers\n",
      "Aide en puériculture\n",
      "Conduite de véhicules sanitaires\n",
      "Préparation en pharmacie\n",
      "Soins d'hygiène, de confort du patient\n",
      "Soins infirmiers généralistes\n",
      "Action sociale\n",
      "Intervention socioculturelle\n",
      "Intervention socioéducative\n",
      "Accompagnement médicosocial\n",
      "Assistance auprès d'adultes\n",
      "Assistance auprès d'enfants\n",
      "Services domestiques\n",
      "Conseil en emploi et insertion socioprofessionnelle\n",
      "Développement local\n",
      "Défense et conseil juridique\n",
      "Éducation et surveillance au sein d'établissements d'enseignement\n",
      "Enseignement général du second degré\n",
      "Formation professionnelle\n",
      "Nettoyage de locaux\n",
      "Sécurité et surveillance privées\n",
      "Musique et chant\n",
      "Art dramatique\n",
      "Production et administration spectacle, cinéma et audiovisuel\n",
      "Comptabilité\n",
      "Contrôle de gestion\n",
      "Direction de petite ou moyenne entreprise\n",
      "Assistanat en ressources humaines\n",
      "Développement des ressources humaines\n",
      "Accueil et renseignements\n",
      "Opérations administratives\n",
      "Assistanat de direction\n",
      "Assistanat technique et administratif\n",
      "Secrétariat\n",
      "Secrétariat comptable\n",
      "Secrétariat et assistanat médical ou médico-social\n",
      "Marketing\n",
      "Stratégie commerciale\n",
      "Études et développement informatique\n",
      "Conduite d'engins de déplacement des charges\n",
      "Magasinage et préparation de commandes\n",
      "Manutention manuelle de charges\n",
      "Intervention technique d'exploitation logistique\n",
      "Conduite de transport de marchandises sur longue distance\n",
      "Conduite de transport de particuliers\n",
      "Conduite de transport en commun sur route\n",
      "Conduite et livraison par tournées sur courte distance\n"
     ]
    }
   ],
   "source": [
    "for ROME in ROMEs_to_chop:\n",
    "    print(ROME_df.loc[ROME].label)"
   ]
  },
  {
   "cell_type": "code",
   "execution_count": 39,
   "metadata": {
    "collapsed": true
   },
   "outputs": [],
   "source": [
    "groups = {}\n",
    "for ROME in ROMEs_to_chop:\n",
    "    \n",
    "    OGRs_data = OGR_df[OGR_df.ROME == ROME]\n",
    "    \n",
    "    ROME_groups = []\n",
    "    \n",
    "    for OGR_data in OGRs_data.iterrows():\n",
    "        OGR = OGR_data[0]\n",
    "        label = OGR_data[1].label\n",
    "        \n",
    "        ROME_groups.append({\n",
    "            'OGRs': [OGR],\n",
    "            'label': label,\n",
    "            'name': OGR,\n",
    "        })\n",
    "        \n",
    "    groups[ROME] = ROME_groups"
   ]
  },
  {
   "cell_type": "code",
   "execution_count": 40,
   "metadata": {
    "collapsed": false
   },
   "outputs": [
    {
     "data": {
      "text/plain": [
       "[{'OGRs': ['10675'],\n",
       "  'label': \"Agent / Agente d'entretien des parcs et jardins\",\n",
       "  'name': '10675'},\n",
       " {'OGRs': ['38436'], 'label': 'Aide jardinier / jardinière', 'name': '38436'},\n",
       " {'OGRs': ['12439'],\n",
       "  'label': \"Chef d'équipe d'entretien des espaces verts\",\n",
       "  'name': '12439'},\n",
       " {'OGRs': ['12482'], 'label': \"Chef d'équipe paysagiste\", 'name': '12482'},\n",
       " {'OGRs': ['16067'], 'label': 'Jardinier / Jardinière', 'name': '16067'},\n",
       " {'OGRs': ['16068'],\n",
       "  'label': \"Jardinier / Jardinière d'espaces verts\",\n",
       "  'name': '16068'},\n",
       " {'OGRs': ['16069'],\n",
       "  'label': 'Jardinier / Jardinière paysagiste',\n",
       "  'name': '16069'},\n",
       " {'OGRs': ['38437'], 'label': 'Manoeuvre des espaces verts', 'name': '38437'},\n",
       " {'OGRs': ['17475'],\n",
       "  'label': \"Ouvrier / Ouvrière d'entretien des espaces verts\",\n",
       "  'name': '17475'},\n",
       " {'OGRs': ['17480'],\n",
       "  'label': 'Ouvrier / Ouvrière des espaces verts',\n",
       "  'name': '17480'},\n",
       " {'OGRs': ['17487'],\n",
       "  'label': 'Ouvrier / Ouvrière du paysage',\n",
       "  'name': '17487'},\n",
       " {'OGRs': ['17515'],\n",
       "  'label': 'Ouvrier / Ouvrière paysagiste ',\n",
       "  'name': '17515'},\n",
       " {'OGRs': ['38077'],\n",
       "  'label': 'Technicien / Technicienne paysagiste',\n",
       "  'name': '38077'}]"
      ]
     },
     "execution_count": 40,
     "metadata": {},
     "output_type": "execute_result"
    }
   ],
   "source": [
    "groups['A1203']"
   ]
  },
  {
   "cell_type": "code",
   "execution_count": 41,
   "metadata": {
    "collapsed": true
   },
   "outputs": [],
   "source": [
    "with open('../decoupage_ROME.pickle', 'wb') as f:\n",
    "    pickle.dump(groups, f)"
   ]
  },
  {
   "cell_type": "code",
   "execution_count": null,
   "metadata": {
    "collapsed": true
   },
   "outputs": [],
   "source": []
  }
 ],
 "metadata": {
  "kernelspec": {
   "display_name": "Python 3",
   "language": "python",
   "name": "python3"
  },
  "language_info": {
   "codemirror_mode": {
    "name": "ipython",
    "version": 3
   },
   "file_extension": ".py",
   "mimetype": "text/x-python",
   "name": "python",
   "nbconvert_exporter": "python",
   "pygments_lexer": "ipython3",
   "version": "3.5.2"
  }
 },
 "nbformat": 4,
 "nbformat_minor": 2
}
