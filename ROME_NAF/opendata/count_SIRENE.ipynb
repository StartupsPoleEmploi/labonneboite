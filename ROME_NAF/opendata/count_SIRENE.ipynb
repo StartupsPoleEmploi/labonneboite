{
 "cells": [
  {
   "cell_type": "code",
   "execution_count": 1,
   "metadata": {
    "collapsed": true
   },
   "outputs": [],
   "source": [
    "from collections import defaultdict\n",
    "import re\n",
    "import pickle\n",
    "\n",
    "import pandas as pd"
   ]
  },
  {
   "cell_type": "code",
   "execution_count": 2,
   "metadata": {
    "collapsed": false,
    "scrolled": true
   },
   "outputs": [
    {
     "name": "stdout",
     "output_type": "stream",
     "text": [
      "0\n",
      "1000000\n",
      "2000000\n",
      "3000000\n",
      "4000000\n",
      "5000000\n",
      "6000000\n",
      "7000000\n",
      "8000000\n",
      "9000000\n",
      "10000000\n"
     ]
    }
   ],
   "source": [
    "set_by_naf = defaultdict(set)\n",
    "not_parsed = []\n",
    "with open('sirc-17804_9075_14209_201705_L_M_20170601_024542286.csv', 'r', encoding='latin-1') as f:\n",
    "    headers = f.readline()[:-1].split('\"')[1::2]\n",
    "\n",
    "    SIREN_index = headers.index('SIREN')\n",
    "    NAF_index = headers.index('APET700')\n",
    "    \n",
    "    for i, line in enumerate(f):\n",
    "        row = line[:-1].split('\"')[1::2]\n",
    "        if len(row) != len(headers):\n",
    "            row = line[:-1].split(';')\n",
    "            row = [c[1:-1] for c in row]\n",
    "            if len(row) != len(headers):\n",
    "                row = line[:-1].split('\"')\n",
    "                while '' in row[2:-1:2]:\n",
    "                    i = row[2:-1:2].index('')\n",
    "                    assert row[2*i+2] == ''\n",
    "                    row[2*i+1] = row[2*i+1] + '\"' + row[2*i+3]\n",
    "                    del row[2*i+3]\n",
    "                    del row[2*i+2]\n",
    "                row = row[1::2]\n",
    "        assert len(row) == len(headers)\n",
    "\n",
    "        SIREN = row[SIREN_index]\n",
    "        NAF = row[NAF_index]\n",
    "        set_by_naf[NAF].add(SIREN)\n",
    "\n",
    "        if i%1000000 == 0:\n",
    "            print(i)"
   ]
  },
  {
   "cell_type": "code",
   "execution_count": 3,
   "metadata": {
    "collapsed": false
   },
   "outputs": [],
   "source": [
    "count_by_naf = {}\n",
    "for k in set_by_naf.keys():\n",
    "    assert re.match(r'^(:?[0-9]{4}[A-Z]|[0-9]{3}[A-Z] )$', k), k\n",
    "    for SIREN in set_by_naf[k]:\n",
    "        assert re.match(r'^[0-9]{9}$', SIREN), SIREN\n",
    "    count_by_naf[k] = len(set_by_naf[k])\n"
   ]
  },
  {
   "cell_type": "code",
   "execution_count": 4,
   "metadata": {
    "collapsed": false
   },
   "outputs": [],
   "source": [
    "with open('count_by_naf.pickle', 'wb') as f:\n",
    "    pickle.dump(count_by_naf, f)"
   ]
  },
  {
   "cell_type": "code",
   "execution_count": 5,
   "metadata": {
    "collapsed": false
   },
   "outputs": [],
   "source": [
    "NAF_df = pd.read_csv('../referentiels/referentiel_NAF/naf2008_liste_n5_nouveau_header.csv', sep='|', encoding=\"utf-8\").set_index(['NAF'])\n"
   ]
  },
  {
   "cell_type": "code",
   "execution_count": 6,
   "metadata": {
    "collapsed": false
   },
   "outputs": [
    {
     "name": "stdout",
     "output_type": "stream",
     "text": [
      "0\t0520Z\n",
      "2\t5122Z\n",
      "0\t9700Z\n",
      "0\t9810Z\n",
      "0\t9820Z\n"
     ]
    }
   ],
   "source": [
    "\n",
    "for NAF in NAF_df.index:\n",
    "    if NAF not in count_by_naf:\n",
    "        count = 0\n",
    "    else:\n",
    "        count = count_by_naf[NAF]\n",
    "    if count < 3:\n",
    "        print('{}\\t{}'.format(count, NAF))\n"
   ]
  },
  {
   "cell_type": "code",
   "execution_count": 7,
   "metadata": {
    "collapsed": false
   },
   "outputs": [
    {
     "name": "stdout",
     "output_type": "stream",
     "text": [
      "2\t5122Z\n",
      "1\t702C \n"
     ]
    }
   ],
   "source": [
    "for NAF, count in count_by_naf.items():\n",
    "    if count < 3:\n",
    "        print('{}\\t{}'.format(count, NAF))"
   ]
  },
  {
   "cell_type": "code",
   "execution_count": null,
   "metadata": {
    "collapsed": true
   },
   "outputs": [],
   "source": []
  }
 ],
 "metadata": {
  "kernelspec": {
   "display_name": "Python 3",
   "language": "python",
   "name": "python3"
  },
  "language_info": {
   "codemirror_mode": {
    "name": "ipython",
    "version": 3
   },
   "file_extension": ".py",
   "mimetype": "text/x-python",
   "name": "python",
   "nbconvert_exporter": "python",
   "pygments_lexer": "ipython3",
   "version": "3.5.2"
  }
 },
 "nbformat": 4,
 "nbformat_minor": 2
}
