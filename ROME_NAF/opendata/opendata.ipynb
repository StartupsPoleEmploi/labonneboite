{
 "cells": [
  {
   "cell_type": "code",
   "execution_count": 5,
   "metadata": {
    "collapsed": true
   },
   "outputs": [],
   "source": [
    "import pickle\n",
    "\n",
    "import pandas as pd"
   ]
  },
  {
   "cell_type": "code",
   "execution_count": 6,
   "metadata": {
    "collapsed": false
   },
   "outputs": [],
   "source": [
    "ROME_df = pd.read_csv('../referentiels/referentiel_ROME/20150921_arboprincipale28427_ROME.csv', index_col=0, sep='|', dtype=str)\n",
    "OGR_df = pd.read_csv('../referentiels/referentiel_OGR/20150921_arboprincipale28427_OGR.csv', sep='|', dtype=str).set_index('OGR')\n",
    "NAF_df = pd.read_csv('../referentiels/referentiel_NAF/naf2008_liste_n5_nouveau_header.csv', sep='|', encoding=\"utf-8\").set_index(['NAF'])"
   ]
  },
  {
   "cell_type": "code",
   "execution_count": 9,
   "metadata": {
    "collapsed": false
   },
   "outputs": [],
   "source": [
    "with open('../array_ROME1_fusion.pickle', 'rb') as f:\n",
    "    ROME1_fusion = pickle.load(f)\n",
    "with open('count_by_naf.pickle', 'rb') as f:\n",
    "    count_by_naf = pickle.load(f)"
   ]
  },
  {
   "cell_type": "code",
   "execution_count": 10,
   "metadata": {
    "collapsed": false
   },
   "outputs": [],
   "source": [
    "with open('../contrats_30j.csv', 'w') as f:\n",
    "    headers = ['ROME', 'ROME_label', 'APE700', 'APE700_label', 'nb_embauches']\n",
    "    f.write(','.join(headers) + '\\n')\n",
    "    \n",
    "    for ROME_index in range(len(ROME_df)):\n",
    "        ROME = ROME_df.index[ROME_index]\n",
    "        ROME_label = ROME_df.loc[ROME].label\n",
    "\n",
    "        for NAF_index in range(len(NAF_df)):\n",
    "            NAF = NAF_df.index[NAF_index]\n",
    "            NAF_label = NAF_df.loc[NAF].label\n",
    "\n",
    "            if (NAF not in count_by_naf) or (count_by_naf[NAF] < 5):\n",
    "                continue\n",
    "\n",
    "            count = ROME1_fusion[NAF_index, ROME_index, :].sum()\n",
    "\n",
    "            if count > 0:\n",
    "                str_to_write = '{},\"{}\",{},\"{}\",{}'.format(\n",
    "                    ROME,\n",
    "                    ROME_label,\n",
    "                    NAF,\n",
    "                    NAF_label,\n",
    "                    int(count),\n",
    "                    )\n",
    "\n",
    "                str_to_write += '\\n'\n",
    "\n",
    "                f.write(str_to_write)\n"
   ]
  },
  {
   "cell_type": "code",
   "execution_count": null,
   "metadata": {
    "collapsed": true
   },
   "outputs": [],
   "source": []
  }
 ],
 "metadata": {
  "kernelspec": {
   "display_name": "Python 3",
   "language": "python",
   "name": "python3"
  },
  "language_info": {
   "codemirror_mode": {
    "name": "ipython",
    "version": 3
   },
   "file_extension": ".py",
   "mimetype": "text/x-python",
   "name": "python",
   "nbconvert_exporter": "python",
   "pygments_lexer": "ipython3",
   "version": "3.5.2"
  }
 },
 "nbformat": 4,
 "nbformat_minor": 2
}
